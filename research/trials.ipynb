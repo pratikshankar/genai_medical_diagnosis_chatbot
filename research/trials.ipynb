{
 "cells": [
  {
   "cell_type": "code",
   "execution_count": 1,
   "id": "2c60e479",
   "metadata": {},
   "outputs": [
    {
     "name": "stdout",
     "output_type": "stream",
     "text": [
      "ok\n"
     ]
    }
   ],
   "source": [
    "print(\"ok\")"
   ]
  },
  {
   "cell_type": "code",
   "execution_count": 2,
   "id": "99e4ebc6",
   "metadata": {},
   "outputs": [
    {
     "data": {
      "text/plain": [
       "'/Users/pratikshankar/code/genai_projects/genai_medical_diagnosis_chatbot'"
      ]
     },
     "execution_count": 2,
     "metadata": {},
     "output_type": "execute_result"
    }
   ],
   "source": [
    "%pwd"
   ]
  },
  {
   "cell_type": "code",
   "execution_count": 1,
   "id": "09ff4c79",
   "metadata": {},
   "outputs": [],
   "source": [
    "## set pwd to root roject dir so that all paths are relative to it and no path issue happens\n",
    "import os\n",
    "os.chdir(\"../\")\n"
   ]
  },
  {
   "cell_type": "code",
   "execution_count": 3,
   "id": "c87adc62",
   "metadata": {},
   "outputs": [],
   "source": [
    "from langchain.document_loaders import PyPDFLoader, DirectoryLoader\n",
    "from langchain.text_splitter import RecursiveCharacterTextSplitter"
   ]
  },
  {
   "cell_type": "code",
   "execution_count": 4,
   "id": "8a1eb9fe",
   "metadata": {},
   "outputs": [],
   "source": [
    "def load_pdf_file(data):\n",
    "    loader=DirectoryLoader(data, glob=\"*.pdf\", loader_cls=PyPDFLoader)\n",
    "    documents = loader.load()\n",
    "    return documents"
   ]
  },
  {
   "cell_type": "code",
   "execution_count": 5,
   "id": "9070a817",
   "metadata": {},
   "outputs": [],
   "source": [
    "extracted_data=load_pdf_file(data=\"Data/\")"
   ]
  },
  {
   "cell_type": "code",
   "execution_count": 6,
   "id": "a2432a8f",
   "metadata": {},
   "outputs": [
    {
     "data": {
      "text/plain": [
       "[Document(metadata={'producer': 'PDFlib+PDI 5.0.0 (SunOS)', 'creator': 'PyPDF', 'creationdate': '2004-12-18T17:00:02-05:00', 'moddate': '2004-12-18T16:15:31-06:00', 'source': 'Data/Medical_book.pdf', 'total_pages': 637, 'page': 0, 'page_label': '1'}, page_content=''),\n",
       " Document(metadata={'producer': 'PDFlib+PDI 5.0.0 (SunOS)', 'creator': 'PyPDF', 'creationdate': '2004-12-18T17:00:02-05:00', 'moddate': '2004-12-18T16:15:31-06:00', 'source': 'Data/Medical_book.pdf', 'total_pages': 637, 'page': 1, 'page_label': '2'}, page_content='The GALE\\nENCYCLOPEDIA\\nof MEDICINE\\nSECOND EDITION'),\n",
       " Document(metadata={'producer': 'PDFlib+PDI 5.0.0 (SunOS)', 'creator': 'PyPDF', 'creationdate': '2004-12-18T17:00:02-05:00', 'moddate': '2004-12-18T16:15:31-06:00', 'source': 'Data/Medical_book.pdf', 'total_pages': 637, 'page': 2, 'page_label': '3'}, page_content='The GALE\\nENCYCLOPEDIA\\nof MEDICINE\\nSECOND EDITION\\nJACQUELINE L. LONGE, EDITOR\\nDEIRDRE S. BLANCHFIELD, ASSOCIATE EDITOR\\nVOLUME\\nA-B\\n1')]"
      ]
     },
     "execution_count": 6,
     "metadata": {},
     "output_type": "execute_result"
    }
   ],
   "source": [
    "extracted_data[:3]"
   ]
  },
  {
   "cell_type": "code",
   "execution_count": 7,
   "id": "f0bca372",
   "metadata": {},
   "outputs": [],
   "source": [
    "def text_split(extracted_data):\n",
    "    text_splitter = RecursiveCharacterTextSplitter(\n",
    "        chunk_size=500,\n",
    "        chunk_overlap=20,\n",
    "        length_function=len,\n",
    "        \n",
    "    )\n",
    "    texts = text_splitter.split_documents(extracted_data)\n",
    "    return texts"
   ]
  },
  {
   "cell_type": "code",
   "execution_count": 8,
   "id": "a3e497fd",
   "metadata": {},
   "outputs": [
    {
     "data": {
      "text/plain": [
       "[Document(metadata={'producer': 'PDFlib+PDI 5.0.0 (SunOS)', 'creator': 'PyPDF', 'creationdate': '2004-12-18T17:00:02-05:00', 'moddate': '2004-12-18T16:15:31-06:00', 'source': 'Data/Medical_book.pdf', 'total_pages': 637, 'page': 1, 'page_label': '2'}, page_content='The GALE\\nENCYCLOPEDIA\\nof MEDICINE\\nSECOND EDITION'),\n",
       " Document(metadata={'producer': 'PDFlib+PDI 5.0.0 (SunOS)', 'creator': 'PyPDF', 'creationdate': '2004-12-18T17:00:02-05:00', 'moddate': '2004-12-18T16:15:31-06:00', 'source': 'Data/Medical_book.pdf', 'total_pages': 637, 'page': 2, 'page_label': '3'}, page_content='The GALE\\nENCYCLOPEDIA\\nof MEDICINE\\nSECOND EDITION\\nJACQUELINE L. LONGE, EDITOR\\nDEIRDRE S. BLANCHFIELD, ASSOCIATE EDITOR\\nVOLUME\\nA-B\\n1'),\n",
       " Document(metadata={'producer': 'PDFlib+PDI 5.0.0 (SunOS)', 'creator': 'PyPDF', 'creationdate': '2004-12-18T17:00:02-05:00', 'moddate': '2004-12-18T16:15:31-06:00', 'source': 'Data/Medical_book.pdf', 'total_pages': 637, 'page': 3, 'page_label': '4'}, page_content='STAFF\\nJacqueline L. Longe, Project Editor\\nDeirdre S. Blanchfield, Associate Editor\\nChristine B. Jeryan, Managing Editor\\nDonna Olendorf, Senior Editor\\nStacey Blachford, Associate Editor\\nKate Kretschmann, Melissa C. McDade, Ryan\\nThomason, Assistant Editors\\nMark Springer, Technical Specialist\\nAndrea Lopeman, Programmer/Analyst\\nBarbara J. Yarrow,Manager, Imaging and Multimedia\\nContent\\nRobyn V . Young,Project Manager, Imaging and\\nMultimedia Content\\nDean Dauphinais, Senior Editor, Imaging and')]"
      ]
     },
     "execution_count": 8,
     "metadata": {},
     "output_type": "execute_result"
    }
   ],
   "source": [
    "text_chunks=text_split(extracted_data=extracted_data)\n",
    "text_chunks[:3]"
   ]
  },
  {
   "cell_type": "code",
   "execution_count": 9,
   "id": "c73d7c24",
   "metadata": {},
   "outputs": [
    {
     "name": "stdout",
     "output_type": "stream",
     "text": [
      "5860\n"
     ]
    }
   ],
   "source": [
    "print(len(text_chunks))"
   ]
  },
  {
   "cell_type": "code",
   "execution_count": 10,
   "id": "220af7a8",
   "metadata": {},
   "outputs": [
    {
     "data": {
      "text/plain": [
       "Document(metadata={'producer': 'PDFlib+PDI 5.0.0 (SunOS)', 'creator': 'PyPDF', 'creationdate': '2004-12-18T17:00:02-05:00', 'moddate': '2004-12-18T16:15:31-06:00', 'source': 'Data/Medical_book.pdf', 'total_pages': 637, 'page': 3, 'page_label': '4'}, page_content='mation presented in this publication, the Gale Group neither guarantees\\nthe accuracy of the data contained herein nor assumes any responsibili-\\nty for errors, omissions or discrepancies. The Gale Group accepts no\\npayment for listing, and inclusion in the publication of any organiza-\\ntion, agency, institution, publication, service, or individual does not\\nimply endorsement of the editor or publisher. Errors brought to the\\nattention of the publisher and verified to the satisfaction of the publish-')"
      ]
     },
     "execution_count": 10,
     "metadata": {},
     "output_type": "execute_result"
    }
   ],
   "source": [
    "text_chunks[5]"
   ]
  },
  {
   "cell_type": "code",
   "execution_count": 11,
   "id": "e0c159b1",
   "metadata": {},
   "outputs": [],
   "source": [
    "from langchain.embeddings import HuggingFaceEmbeddings\n",
    "#Download the Embeddings from Hugging Face\n",
    "def download_hugging_face_embeddings():\n",
    "    embeddings=HuggingFaceEmbeddings(model_name='sentence-transformers/all-MiniLM-L6-v2')\n",
    "    return embeddings"
   ]
  },
  {
   "cell_type": "code",
   "execution_count": 12,
   "id": "03cc1e70",
   "metadata": {},
   "outputs": [
    {
     "name": "stderr",
     "output_type": "stream",
     "text": [
      "/var/folders/k1/x62ylx3s0ql0pz7bqk9qgm0c0000gn/T/ipykernel_11883/3158813755.py:4: LangChainDeprecationWarning: The class `HuggingFaceEmbeddings` was deprecated in LangChain 0.2.2 and will be removed in 1.0. An updated version of the class exists in the :class:`~langchain-huggingface package and should be used instead. To use it run `pip install -U :class:`~langchain-huggingface` and import as `from :class:`~langchain_huggingface import HuggingFaceEmbeddings``.\n",
      "  embeddings=HuggingFaceEmbeddings(model_name='sentence-transformers/all-MiniLM-L6-v2')\n"
     ]
    }
   ],
   "source": [
    "embeddings = download_hugging_face_embeddings()"
   ]
  },
  {
   "cell_type": "code",
   "execution_count": 13,
   "id": "1a4c83de",
   "metadata": {},
   "outputs": [
    {
     "name": "stdout",
     "output_type": "stream",
     "text": [
      "[0.08204809576272964, 0.03605550155043602, -0.0038928724825382233, -0.00488103786483407, 0.025651097297668457, -0.057143453508615494, 0.012191587127745152, 0.004678946454077959, 0.03494987264275551, -0.02242191508412361, -0.008005260489881039, -0.10935354977846146, 0.022724755108356476, -0.029320860281586647, -0.04352203384041786, -0.120241180062294, -0.0008486149599775672, -0.018150119110941887, 0.056129567325115204, 0.0030852665659040213, 0.0023363828659057617, -0.016839303076267242, 0.06362467259168625, -0.02366022579371929, 0.03149350732564926, -0.03479793667793274, -0.02054881490767002, -0.00279096863232553, -0.011037997901439667, -0.03612671419978142, 0.05414106324315071, -0.03661713749170303, -0.025008659809827805, -0.03817041590809822, -0.04960361868143082, -0.015148099511861801, 0.021315021440386772, -0.012740444391965866, 0.07670089602470398, 0.044355764985084534, -0.010834885761141777, -0.029759978875517845, -0.01697046123445034, -0.02469186671078205, 0.008087108843028545, 0.04358767345547676, 0.007177487947046757, 0.07550129294395447, 0.03280665725469589, -0.06204643473029137, 0.0667789950966835, 0.027091331779956818, -0.04568944498896599, -0.03144114091992378, -0.031155237928032875, 0.09153681993484497, -0.001788194989785552, -0.01128261536359787, 0.03649933263659477, 0.056927114725112915, 0.002299998188391328, -0.037750545889139175, -0.015484712086617947, 0.05239146202802658, 0.06036437675356865, -0.016648326069116592, 0.008809939958155155, -0.006622258573770523, -0.10629703104496002, 0.0017159016570076346, -0.04830583930015564, -0.029768679291009903, 0.004325554706156254, -0.08567409217357635, 0.06620792299509048, -0.05518355220556259, -0.11332663148641586, 0.05084017664194107, -0.009317273274064064, 0.006006702780723572, 0.02101273648440838, -0.022515451535582542, 0.0004727259511128068, 0.05638977140188217, 0.04544346034526825, -0.005277514923363924, 0.09359361231327057, 0.027460267767310143, 0.029441935941576958, -0.04569661617279053, -0.04894433543086052, 0.0013615320203825831, -0.012853392399847507, 0.07980714738368988, -0.11903545260429382, 0.06876880675554276, -0.022718343883752823, 0.044857025146484375, -0.08129200339317322, 0.04405774548649788, 0.0029563582502305508, 0.01762101612985134, 0.08311299979686737, -0.018054962158203125, -0.04792356491088867, 0.05866706371307373, 0.006246477365493774, -0.014656797982752323, -0.00733721349388361, -0.07807917892932892, -0.10076915472745895, -0.0335267148911953, -0.0009018612909130752, -0.051131170243024826, 0.027221713215112686, 0.07086151838302612, 0.04740169644355774, -0.104566790163517, 0.004401118028908968, -0.028793737292289734, -0.01835578866302967, -0.05058589577674866, -0.0315418504178524, -0.009517701342701912, -0.06064470484852791, 0.021163927391171455, -0.04660217836499214, -7.755118268038648e-33, -0.0312962643802166, 0.05634506791830063, 0.07738031446933746, 0.06391441076993942, -0.04664718359708786, -0.007570507004857063, -0.0553264282643795, 0.040277574211359024, -0.03152397647500038, -0.0071029565297067165, 0.039592333137989044, -0.131711944937706, -0.06614520400762558, 0.02177491970360279, 0.09698941558599472, 0.011799286119639874, 0.08900415897369385, 0.03468591719865799, -0.04387174919247627, -0.00016685467562638223, 0.014680837281048298, -0.002709329826757312, -0.0033176359720528126, 0.01739996112883091, 0.06010516360402107, 0.03949518874287605, -0.0017327549867331982, 0.077283576130867, 0.014559609815478325, -0.0021933182142674923, -0.0018453552620485425, 0.015014758333563805, 0.021672898903489113, 0.007331375498324633, 0.017999565228819847, 0.0497441366314888, 0.012588211335241795, -0.0026321893092244864, 0.043461717665195465, 0.06297492980957031, 0.06660725176334381, -0.03639739006757736, -0.03872962296009064, 0.0440126471221447, 0.0056435056030750275, 0.005692597012966871, -0.03487846255302429, -0.07138056308031082, 0.10089902579784393, -0.024756301194429398, 0.014684436842799187, -0.025919564068317413, -0.07273471355438232, -0.017434217035770416, 0.0260188989341259, 0.11413375288248062, -0.07092966139316559, 0.018040645867586136, -0.0033645592629909515, 0.008468237705528736, -0.003198255319148302, 0.005925284698605537, -0.022993478924036026, 0.07761326432228088, 0.034725919365882874, 0.08739189803600311, 0.04626099765300751, 0.01875867135822773, 0.011047512292861938, -0.045824144035577774, -0.046474356204271317, 0.026539428159594536, 0.07402204722166061, 0.06560055166482925, 0.06272174417972565, 0.07237666845321655, -0.00896056741476059, -0.03532487154006958, -0.005384544841945171, -0.0032188917975872755, -0.03802553191781044, -0.04136474430561066, -0.09670209139585495, 0.04421927407383919, -0.03350629657506943, -0.07136601954698563, -0.01164277270436287, -0.007111173588782549, 0.0006453824462369084, -0.0883803740143776, -0.11334280669689178, -0.12120430916547775, -0.0013210754841566086, -0.044243115931749344, -0.08665942400693893, 3.9976880445176384e-33, 0.025276118889451027, -0.002635019598528743, -0.0811300277709961, 0.02546190656721592, 0.0013292033690959215, 0.01603805646300316, 0.09549155831336975, 0.03321702778339386, -0.012048923410475254, 0.016985654830932617, -0.08307889103889465, -0.12452162802219391, 0.04390957951545715, 0.01215105876326561, 0.06574591994285583, 0.10052960366010666, 0.07295699417591095, -0.026920219883322716, -0.03218477964401245, -0.05346689373254776, -0.12637238204479218, 0.005398068577051163, -0.0353909470140934, -0.004279996268451214, -0.025039497762918472, 0.04162561893463135, -0.0999334305524826, -0.04765275493264198, -0.02397601120173931, 0.002639826387166977, -0.05519098415970802, 0.013548426330089569, 0.04904062673449516, 0.08499682694673538, -0.04202462360262871, 0.07673397660255432, 0.03321309760212898, 0.0012652971781790257, 0.039995066821575165, 0.0645516961812973, -0.04337266460061073, -0.04965053126215935, 0.05795808508992195, 0.1126786544919014, 0.07069910317659378, 0.008226488716900349, 0.04381538927555084, -0.022527916356921196, -0.007248722016811371, 0.04985777661204338, 0.03860494866967201, 0.0679117739200592, -0.041070032864809036, 0.005732227116823196, 0.017908036708831787, 0.049305785447359085, -0.05145525932312012, 0.05103077366948128, -0.09380976855754852, -0.06816749274730682, 0.0652628168463707, 0.0754573792219162, -0.016841890290379524, 0.06612507253885269, -0.0028971030842512846, -0.020738141611218452, -0.1270085722208023, 0.06160476803779602, -0.009813147597014904, -0.014706136658787727, 0.13544601202011108, 0.03413688391447067, -0.06481856107711792, 0.05101704224944115, -0.06637556105852127, 0.029188310727477074, 0.07939160615205765, 0.014440261758863926, -0.027310017496347427, 0.005267038941383362, -0.06761956959962845, -0.020494451746344566, -0.027144724503159523, -0.02614978328347206, -0.0705467164516449, 0.034717921167612076, 0.007612558081746101, -0.10216667503118515, 0.05842781439423561, -0.0747859850525856, -0.021968010812997818, -0.006808642763644457, -0.051303282380104065, -0.036969881504774094, 0.025690186768770218, -1.7501511351269983e-08, 0.0680966004729271, 0.04500093683600426, -0.04408636689186096, 0.012878757901489735, -0.05775943771004677, -0.09547640383243561, 0.06219945102930069, -0.004272661171853542, -0.00867017824202776, 0.0002549659402575344, -0.07361150532960892, 0.056062184274196625, -0.06970258802175522, -0.05111628770828247, -0.04102282598614693, -0.0047609927132725716, -0.032463204115629196, 0.04304734990000725, 0.008683168329298496, 0.022707821801304817, -0.00490532536059618, 0.023357978090643883, -0.04563943296670914, -0.05810334533452988, 0.012541460804641247, -0.09903232008218765, 0.04062921553850174, 0.04566892609000206, 0.0027159012388437986, -0.005313027650117874, 0.0664028525352478, -0.027287570759654045, -0.05007480829954147, -0.09029495716094971, -0.03612228110432625, 0.012680103071033955, -0.005830496549606323, -0.0050932876765728, 0.009507526643574238, -0.02905246987938881, 0.09497952461242676, 0.061990685760974884, 0.01253664493560791, -0.011961056850850582, 0.024525726214051247, 0.04538298398256302, 0.05382112041115761, -0.035177212208509445, 0.11464709043502808, -0.08902023732662201, -0.1114850863814354, 0.09941156208515167, 0.003938884008675814, 0.004478398710489273, 0.003446627641096711, 0.0708964467048645, -0.051293618977069855, -0.012674203142523766, 0.02187473140656948, -0.020012004300951958, -0.014911338686943054, 0.04920435696840286, 0.08929189294576645, -0.011127760633826256]\n",
      "384\n"
     ]
    }
   ],
   "source": [
    "test_embed=embeddings.embed_query(\"What is the capital of France?\")\n",
    "print(test_embed)\n",
    "print(len(test_embed))"
   ]
  },
  {
   "cell_type": "code",
   "execution_count": 16,
   "id": "6fc45610",
   "metadata": {},
   "outputs": [
    {
     "data": {
      "text/plain": [
       "{'dimension': 384,\n",
       " 'index_fullness': 0.0,\n",
       " 'metric': 'dotproduct',\n",
       " 'namespaces': {},\n",
       " 'total_vector_count': 0,\n",
       " 'vector_type': 'dense'}"
      ]
     },
     "execution_count": 16,
     "metadata": {},
     "output_type": "execute_result"
    }
   ],
   "source": [
    "from pinecone import ServerlessSpec\n",
    "from pinecone import Pinecone\n",
    "index_name=\"medical-rag-bot\"\n",
    "PINECONE_API_KEY='pcsk_7EpJvk_FoJt3zTKyzdcWWAmLYRitQeVMwfgTjwAWxk3CRfdpF88SPYaRKPsLnP3y9NDgSN'\n",
    "\n",
    "pc=Pinecone(api_key=PINECONE_API_KEY)\n",
    "from pinecone import ServerlessSpec\n",
    "if not pc.has_index(name=index_name):\n",
    "    pc.create_index(\n",
    "        name=index_name,\n",
    "        dimension=384,\n",
    "        metric='dotproduct',\n",
    "        spec=ServerlessSpec(\n",
    "            cloud='aws',\n",
    "            region='us-east-1'\n",
    "        )\n",
    "    )\n",
    "index=pc.Index(name=index_name)\n",
    "index.describe_index_stats()"
   ]
  },
  {
   "cell_type": "code",
   "execution_count": 22,
   "id": "7f704c9a",
   "metadata": {},
   "outputs": [],
   "source": [
    "import os\n",
    "os.environ[\"PINECONE_API_KEY\"] = PINECONE_API_KEY"
   ]
  },
  {
   "cell_type": "code",
   "execution_count": 23,
   "id": "2a705733",
   "metadata": {},
   "outputs": [],
   "source": [
    "# Embed each chunk and upsert the embeddings into your Pinecone index.\n",
    "from langchain_pinecone import PineconeVectorStore\n",
    "\n",
    "docsearch = PineconeVectorStore.from_documents(\n",
    "    documents=text_chunks,\n",
    "    index_name=index_name,\n",
    "    embedding=embeddings, \n",
    ")"
   ]
  },
  {
   "cell_type": "code",
   "execution_count": null,
   "id": "eda43bbb",
   "metadata": {},
   "outputs": [],
   "source": [
    "#initializing docsearch with the existing index\n",
    "from langchain_pinecone import PineconeVectorStore\n",
    "docsearch=PineconeVectorStore.from_existing_index(\n",
    "    index_name=index_name,\n",
    "    embedding=embeddings\n",
    ")"
   ]
  },
  {
   "cell_type": "code",
   "execution_count": 25,
   "id": "1a9bd720",
   "metadata": {},
   "outputs": [],
   "source": [
    "## initializing retriver object\n",
    "retriver=docsearch.as_retriever(search_type=\"similarity\",search_kwargs={\"k\": 3})"
   ]
  },
  {
   "cell_type": "code",
   "execution_count": 28,
   "id": "9c51bf1f",
   "metadata": {},
   "outputs": [
    {
     "data": {
      "text/plain": [
       "[Document(id='b9aeca6e-69aa-41f7-87a9-10da9b7932e6', metadata={'creationdate': '2004-12-18T17:00:02-05:00', 'creator': 'PyPDF', 'moddate': '2004-12-18T16:15:31-06:00', 'page': 39.0, 'page_label': '40', 'producer': 'PDFlib+PDI 5.0.0 (SunOS)', 'source': 'Data/Medical_book.pdf', 'total_pages': 637.0}, page_content='GALE ENCYCLOPEDIA OF MEDICINE 226\\nAcne\\nGEM - 0001 to 0432 - A  10/22/03 1:41 PM  Page 26'),\n",
       " Document(id='2197cd66-1083-4daf-b021-b940418c8bb3', metadata={'creationdate': '2004-12-18T17:00:02-05:00', 'creator': 'PyPDF', 'moddate': '2004-12-18T16:15:31-06:00', 'page': 38.0, 'page_label': '39', 'producer': 'PDFlib+PDI 5.0.0 (SunOS)', 'source': 'Data/Medical_book.pdf', 'total_pages': 637.0}, page_content='GALE ENCYCLOPEDIA OF MEDICINE 2 25\\nAcne\\nAcne vulgaris affecting a woman’s face. Acne is the general\\nname given to a skin disorder in which the sebaceous\\nglands become inflamed.(Photograph by Biophoto Associ-\\nates, Photo Researchers, Inc. Reproduced by permission.)\\nGEM - 0001 to 0432 - A  10/22/03 1:41 PM  Page 25'),\n",
       " Document(id='37c60b69-dc3f-440c-97f7-06306b27e187', metadata={'creationdate': '2004-12-18T17:00:02-05:00', 'creator': 'PyPDF', 'moddate': '2004-12-18T16:15:31-06:00', 'page': 37.0, 'page_label': '38', 'producer': 'PDFlib+PDI 5.0.0 (SunOS)', 'source': 'Data/Medical_book.pdf', 'total_pages': 637.0}, page_content='Acidosis see Respiratory acidosis; Renal\\ntubular acidosis; Metabolic acidosis\\nAcne\\nDefinition\\nAcne is a common skin disease characterized by\\npimples on the face, chest, and back. It occurs when the\\npores of the skin become clogged with oil, dead skin\\ncells, and bacteria.\\nDescription\\nAcne vulgaris, the medical term for common acne, is\\nthe most common skin disease. It affects nearly 17 million\\npeople in the United States. While acne can arise at any')]"
      ]
     },
     "execution_count": 28,
     "metadata": {},
     "output_type": "execute_result"
    }
   ],
   "source": [
    "## testing on a sample query\n",
    "query=\"What is the acne?\"\n",
    "retriver.invoke(input=query)"
   ]
  },
  {
   "cell_type": "code",
   "execution_count": null,
   "id": "8c54dc55",
   "metadata": {},
   "outputs": [],
   "source": [
    "### getting the llm model\n"
   ]
  }
 ],
 "metadata": {
  "kernelspec": {
   "display_name": "Python 3",
   "language": "python",
   "name": "python3"
  },
  "language_info": {
   "codemirror_mode": {
    "name": "ipython",
    "version": 3
   },
   "file_extension": ".py",
   "mimetype": "text/x-python",
   "name": "python",
   "nbconvert_exporter": "python",
   "pygments_lexer": "ipython3",
   "version": "3.10.16"
  }
 },
 "nbformat": 4,
 "nbformat_minor": 5
}
