{
 "cells": [
  {
   "cell_type": "code",
   "execution_count": 1,
   "id": "2c60e479",
   "metadata": {},
   "outputs": [
    {
     "name": "stdout",
     "output_type": "stream",
     "text": [
      "ok\n"
     ]
    }
   ],
   "source": [
    "print(\"ok\")"
   ]
  },
  {
   "cell_type": "code",
   "execution_count": 2,
   "id": "99e4ebc6",
   "metadata": {},
   "outputs": [
    {
     "data": {
      "text/plain": [
       "'/Users/pratikshankar/code/genai_projects/genai_medical_diagnosis_chatbot'"
      ]
     },
     "execution_count": 2,
     "metadata": {},
     "output_type": "execute_result"
    }
   ],
   "source": [
    "%pwd"
   ]
  },
  {
   "cell_type": "code",
   "execution_count": 1,
   "id": "09ff4c79",
   "metadata": {},
   "outputs": [],
   "source": [
    "## set pwd to root roject dir so that all paths are relative to it and no path issue happens\n",
    "import os\n",
    "os.chdir(\"../\")\n"
   ]
  },
  {
   "cell_type": "code",
   "execution_count": 37,
   "id": "b04141d6",
   "metadata": {},
   "outputs": [],
   "source": [
    "from dotenv import load_dotenv\n",
    "import os\n",
    "\n",
    "# Load environment variables from .env file\n",
    "load_dotenv()\n",
    "\n",
    "# Access the API key\n",
    "GEMINI_API_KEY = os.getenv(\"GEMINI_API_KEY\")\n",
    "PINECONE_API_KEY=os.getenv(\"PINECONE_API_KEY\")"
   ]
  },
  {
   "cell_type": "code",
   "execution_count": 3,
   "id": "c87adc62",
   "metadata": {},
   "outputs": [],
   "source": [
    "from langchain.document_loaders import PyPDFLoader, DirectoryLoader\n",
    "from langchain.text_splitter import RecursiveCharacterTextSplitter"
   ]
  },
  {
   "cell_type": "code",
   "execution_count": 4,
   "id": "8a1eb9fe",
   "metadata": {},
   "outputs": [],
   "source": [
    "def load_pdf_file(data):\n",
    "    loader=DirectoryLoader(data, glob=\"*.pdf\", loader_cls=PyPDFLoader)\n",
    "    documents = loader.load()\n",
    "    return documents"
   ]
  },
  {
   "cell_type": "code",
   "execution_count": 5,
   "id": "9070a817",
   "metadata": {},
   "outputs": [],
   "source": [
    "extracted_data=load_pdf_file(data=\"Data/\")"
   ]
  },
  {
   "cell_type": "code",
   "execution_count": 6,
   "id": "a2432a8f",
   "metadata": {},
   "outputs": [
    {
     "data": {
      "text/plain": [
       "[Document(metadata={'producer': 'PDFlib+PDI 5.0.0 (SunOS)', 'creator': 'PyPDF', 'creationdate': '2004-12-18T17:00:02-05:00', 'moddate': '2004-12-18T16:15:31-06:00', 'source': 'Data/Medical_book.pdf', 'total_pages': 637, 'page': 0, 'page_label': '1'}, page_content=''),\n",
       " Document(metadata={'producer': 'PDFlib+PDI 5.0.0 (SunOS)', 'creator': 'PyPDF', 'creationdate': '2004-12-18T17:00:02-05:00', 'moddate': '2004-12-18T16:15:31-06:00', 'source': 'Data/Medical_book.pdf', 'total_pages': 637, 'page': 1, 'page_label': '2'}, page_content='The GALE\\nENCYCLOPEDIA\\nof MEDICINE\\nSECOND EDITION'),\n",
       " Document(metadata={'producer': 'PDFlib+PDI 5.0.0 (SunOS)', 'creator': 'PyPDF', 'creationdate': '2004-12-18T17:00:02-05:00', 'moddate': '2004-12-18T16:15:31-06:00', 'source': 'Data/Medical_book.pdf', 'total_pages': 637, 'page': 2, 'page_label': '3'}, page_content='The GALE\\nENCYCLOPEDIA\\nof MEDICINE\\nSECOND EDITION\\nJACQUELINE L. LONGE, EDITOR\\nDEIRDRE S. BLANCHFIELD, ASSOCIATE EDITOR\\nVOLUME\\nA-B\\n1')]"
      ]
     },
     "execution_count": 6,
     "metadata": {},
     "output_type": "execute_result"
    }
   ],
   "source": [
    "extracted_data[:3]"
   ]
  },
  {
   "cell_type": "code",
   "execution_count": 7,
   "id": "f0bca372",
   "metadata": {},
   "outputs": [],
   "source": [
    "def text_split(extracted_data):\n",
    "    text_splitter = RecursiveCharacterTextSplitter(\n",
    "        chunk_size=500,\n",
    "        chunk_overlap=20,\n",
    "        length_function=len,\n",
    "        \n",
    "    )\n",
    "    texts = text_splitter.split_documents(extracted_data)\n",
    "    return texts"
   ]
  },
  {
   "cell_type": "code",
   "execution_count": 8,
   "id": "a3e497fd",
   "metadata": {},
   "outputs": [
    {
     "data": {
      "text/plain": [
       "[Document(metadata={'producer': 'PDFlib+PDI 5.0.0 (SunOS)', 'creator': 'PyPDF', 'creationdate': '2004-12-18T17:00:02-05:00', 'moddate': '2004-12-18T16:15:31-06:00', 'source': 'Data/Medical_book.pdf', 'total_pages': 637, 'page': 1, 'page_label': '2'}, page_content='The GALE\\nENCYCLOPEDIA\\nof MEDICINE\\nSECOND EDITION'),\n",
       " Document(metadata={'producer': 'PDFlib+PDI 5.0.0 (SunOS)', 'creator': 'PyPDF', 'creationdate': '2004-12-18T17:00:02-05:00', 'moddate': '2004-12-18T16:15:31-06:00', 'source': 'Data/Medical_book.pdf', 'total_pages': 637, 'page': 2, 'page_label': '3'}, page_content='The GALE\\nENCYCLOPEDIA\\nof MEDICINE\\nSECOND EDITION\\nJACQUELINE L. LONGE, EDITOR\\nDEIRDRE S. BLANCHFIELD, ASSOCIATE EDITOR\\nVOLUME\\nA-B\\n1'),\n",
       " Document(metadata={'producer': 'PDFlib+PDI 5.0.0 (SunOS)', 'creator': 'PyPDF', 'creationdate': '2004-12-18T17:00:02-05:00', 'moddate': '2004-12-18T16:15:31-06:00', 'source': 'Data/Medical_book.pdf', 'total_pages': 637, 'page': 3, 'page_label': '4'}, page_content='STAFF\\nJacqueline L. Longe, Project Editor\\nDeirdre S. Blanchfield, Associate Editor\\nChristine B. Jeryan, Managing Editor\\nDonna Olendorf, Senior Editor\\nStacey Blachford, Associate Editor\\nKate Kretschmann, Melissa C. McDade, Ryan\\nThomason, Assistant Editors\\nMark Springer, Technical Specialist\\nAndrea Lopeman, Programmer/Analyst\\nBarbara J. Yarrow,Manager, Imaging and Multimedia\\nContent\\nRobyn V . Young,Project Manager, Imaging and\\nMultimedia Content\\nDean Dauphinais, Senior Editor, Imaging and')]"
      ]
     },
     "execution_count": 8,
     "metadata": {},
     "output_type": "execute_result"
    }
   ],
   "source": [
    "text_chunks=text_split(extracted_data=extracted_data)\n",
    "text_chunks[:3]"
   ]
  },
  {
   "cell_type": "code",
   "execution_count": 9,
   "id": "c73d7c24",
   "metadata": {},
   "outputs": [
    {
     "name": "stdout",
     "output_type": "stream",
     "text": [
      "5860\n"
     ]
    }
   ],
   "source": [
    "print(len(text_chunks))"
   ]
  },
  {
   "cell_type": "code",
   "execution_count": 10,
   "id": "220af7a8",
   "metadata": {},
   "outputs": [
    {
     "data": {
      "text/plain": [
       "Document(metadata={'producer': 'PDFlib+PDI 5.0.0 (SunOS)', 'creator': 'PyPDF', 'creationdate': '2004-12-18T17:00:02-05:00', 'moddate': '2004-12-18T16:15:31-06:00', 'source': 'Data/Medical_book.pdf', 'total_pages': 637, 'page': 3, 'page_label': '4'}, page_content='mation presented in this publication, the Gale Group neither guarantees\\nthe accuracy of the data contained herein nor assumes any responsibili-\\nty for errors, omissions or discrepancies. The Gale Group accepts no\\npayment for listing, and inclusion in the publication of any organiza-\\ntion, agency, institution, publication, service, or individual does not\\nimply endorsement of the editor or publisher. Errors brought to the\\nattention of the publisher and verified to the satisfaction of the publish-')"
      ]
     },
     "execution_count": 10,
     "metadata": {},
     "output_type": "execute_result"
    }
   ],
   "source": [
    "text_chunks[5]"
   ]
  },
  {
   "cell_type": "code",
   "execution_count": 11,
   "id": "e0c159b1",
   "metadata": {},
   "outputs": [],
   "source": [
    "from langchain.embeddings import HuggingFaceEmbeddings\n",
    "#Download the Embeddings from Hugging Face\n",
    "def download_hugging_face_embeddings():\n",
    "    embeddings=HuggingFaceEmbeddings(model_name='sentence-transformers/all-MiniLM-L6-v2')\n",
    "    return embeddings"
   ]
  },
  {
   "cell_type": "code",
   "execution_count": 12,
   "id": "03cc1e70",
   "metadata": {},
   "outputs": [
    {
     "name": "stderr",
     "output_type": "stream",
     "text": [
      "/var/folders/k1/x62ylx3s0ql0pz7bqk9qgm0c0000gn/T/ipykernel_11883/3158813755.py:4: LangChainDeprecationWarning: The class `HuggingFaceEmbeddings` was deprecated in LangChain 0.2.2 and will be removed in 1.0. An updated version of the class exists in the :class:`~langchain-huggingface package and should be used instead. To use it run `pip install -U :class:`~langchain-huggingface` and import as `from :class:`~langchain_huggingface import HuggingFaceEmbeddings``.\n",
      "  embeddings=HuggingFaceEmbeddings(model_name='sentence-transformers/all-MiniLM-L6-v2')\n"
     ]
    }
   ],
   "source": [
    "embeddings = download_hugging_face_embeddings()"
   ]
  },
  {
   "cell_type": "code",
   "execution_count": 13,
   "id": "1a4c83de",
   "metadata": {},
   "outputs": [
    {
     "name": "stdout",
     "output_type": "stream",
     "text": [
      "[0.08204809576272964, 0.03605550155043602, -0.0038928724825382233, -0.00488103786483407, 0.025651097297668457, -0.057143453508615494, 0.012191587127745152, 0.004678946454077959, 0.03494987264275551, -0.02242191508412361, -0.008005260489881039, -0.10935354977846146, 0.022724755108356476, -0.029320860281586647, -0.04352203384041786, -0.120241180062294, -0.0008486149599775672, -0.018150119110941887, 0.056129567325115204, 0.0030852665659040213, 0.0023363828659057617, -0.016839303076267242, 0.06362467259168625, -0.02366022579371929, 0.03149350732564926, -0.03479793667793274, -0.02054881490767002, -0.00279096863232553, -0.011037997901439667, -0.03612671419978142, 0.05414106324315071, -0.03661713749170303, -0.025008659809827805, -0.03817041590809822, -0.04960361868143082, -0.015148099511861801, 0.021315021440386772, -0.012740444391965866, 0.07670089602470398, 0.044355764985084534, -0.010834885761141777, -0.029759978875517845, -0.01697046123445034, -0.02469186671078205, 0.008087108843028545, 0.04358767345547676, 0.007177487947046757, 0.07550129294395447, 0.03280665725469589, -0.06204643473029137, 0.0667789950966835, 0.027091331779956818, -0.04568944498896599, -0.03144114091992378, -0.031155237928032875, 0.09153681993484497, -0.001788194989785552, -0.01128261536359787, 0.03649933263659477, 0.056927114725112915, 0.002299998188391328, -0.037750545889139175, -0.015484712086617947, 0.05239146202802658, 0.06036437675356865, -0.016648326069116592, 0.008809939958155155, -0.006622258573770523, -0.10629703104496002, 0.0017159016570076346, -0.04830583930015564, -0.029768679291009903, 0.004325554706156254, -0.08567409217357635, 0.06620792299509048, -0.05518355220556259, -0.11332663148641586, 0.05084017664194107, -0.009317273274064064, 0.006006702780723572, 0.02101273648440838, -0.022515451535582542, 0.0004727259511128068, 0.05638977140188217, 0.04544346034526825, -0.005277514923363924, 0.09359361231327057, 0.027460267767310143, 0.029441935941576958, -0.04569661617279053, -0.04894433543086052, 0.0013615320203825831, -0.012853392399847507, 0.07980714738368988, -0.11903545260429382, 0.06876880675554276, -0.022718343883752823, 0.044857025146484375, -0.08129200339317322, 0.04405774548649788, 0.0029563582502305508, 0.01762101612985134, 0.08311299979686737, -0.018054962158203125, -0.04792356491088867, 0.05866706371307373, 0.006246477365493774, -0.014656797982752323, -0.00733721349388361, -0.07807917892932892, -0.10076915472745895, -0.0335267148911953, -0.0009018612909130752, -0.051131170243024826, 0.027221713215112686, 0.07086151838302612, 0.04740169644355774, -0.104566790163517, 0.004401118028908968, -0.028793737292289734, -0.01835578866302967, -0.05058589577674866, -0.0315418504178524, -0.009517701342701912, -0.06064470484852791, 0.021163927391171455, -0.04660217836499214, -7.755118268038648e-33, -0.0312962643802166, 0.05634506791830063, 0.07738031446933746, 0.06391441076993942, -0.04664718359708786, -0.007570507004857063, -0.0553264282643795, 0.040277574211359024, -0.03152397647500038, -0.0071029565297067165, 0.039592333137989044, -0.131711944937706, -0.06614520400762558, 0.02177491970360279, 0.09698941558599472, 0.011799286119639874, 0.08900415897369385, 0.03468591719865799, -0.04387174919247627, -0.00016685467562638223, 0.014680837281048298, -0.002709329826757312, -0.0033176359720528126, 0.01739996112883091, 0.06010516360402107, 0.03949518874287605, -0.0017327549867331982, 0.077283576130867, 0.014559609815478325, -0.0021933182142674923, -0.0018453552620485425, 0.015014758333563805, 0.021672898903489113, 0.007331375498324633, 0.017999565228819847, 0.0497441366314888, 0.012588211335241795, -0.0026321893092244864, 0.043461717665195465, 0.06297492980957031, 0.06660725176334381, -0.03639739006757736, -0.03872962296009064, 0.0440126471221447, 0.0056435056030750275, 0.005692597012966871, -0.03487846255302429, -0.07138056308031082, 0.10089902579784393, -0.024756301194429398, 0.014684436842799187, -0.025919564068317413, -0.07273471355438232, -0.017434217035770416, 0.0260188989341259, 0.11413375288248062, -0.07092966139316559, 0.018040645867586136, -0.0033645592629909515, 0.008468237705528736, -0.003198255319148302, 0.005925284698605537, -0.022993478924036026, 0.07761326432228088, 0.034725919365882874, 0.08739189803600311, 0.04626099765300751, 0.01875867135822773, 0.011047512292861938, -0.045824144035577774, -0.046474356204271317, 0.026539428159594536, 0.07402204722166061, 0.06560055166482925, 0.06272174417972565, 0.07237666845321655, -0.00896056741476059, -0.03532487154006958, -0.005384544841945171, -0.0032188917975872755, -0.03802553191781044, -0.04136474430561066, -0.09670209139585495, 0.04421927407383919, -0.03350629657506943, -0.07136601954698563, -0.01164277270436287, -0.007111173588782549, 0.0006453824462369084, -0.0883803740143776, -0.11334280669689178, -0.12120430916547775, -0.0013210754841566086, -0.044243115931749344, -0.08665942400693893, 3.9976880445176384e-33, 0.025276118889451027, -0.002635019598528743, -0.0811300277709961, 0.02546190656721592, 0.0013292033690959215, 0.01603805646300316, 0.09549155831336975, 0.03321702778339386, -0.012048923410475254, 0.016985654830932617, -0.08307889103889465, -0.12452162802219391, 0.04390957951545715, 0.01215105876326561, 0.06574591994285583, 0.10052960366010666, 0.07295699417591095, -0.026920219883322716, -0.03218477964401245, -0.05346689373254776, -0.12637238204479218, 0.005398068577051163, -0.0353909470140934, -0.004279996268451214, -0.025039497762918472, 0.04162561893463135, -0.0999334305524826, -0.04765275493264198, -0.02397601120173931, 0.002639826387166977, -0.05519098415970802, 0.013548426330089569, 0.04904062673449516, 0.08499682694673538, -0.04202462360262871, 0.07673397660255432, 0.03321309760212898, 0.0012652971781790257, 0.039995066821575165, 0.0645516961812973, -0.04337266460061073, -0.04965053126215935, 0.05795808508992195, 0.1126786544919014, 0.07069910317659378, 0.008226488716900349, 0.04381538927555084, -0.022527916356921196, -0.007248722016811371, 0.04985777661204338, 0.03860494866967201, 0.0679117739200592, -0.041070032864809036, 0.005732227116823196, 0.017908036708831787, 0.049305785447359085, -0.05145525932312012, 0.05103077366948128, -0.09380976855754852, -0.06816749274730682, 0.0652628168463707, 0.0754573792219162, -0.016841890290379524, 0.06612507253885269, -0.0028971030842512846, -0.020738141611218452, -0.1270085722208023, 0.06160476803779602, -0.009813147597014904, -0.014706136658787727, 0.13544601202011108, 0.03413688391447067, -0.06481856107711792, 0.05101704224944115, -0.06637556105852127, 0.029188310727477074, 0.07939160615205765, 0.014440261758863926, -0.027310017496347427, 0.005267038941383362, -0.06761956959962845, -0.020494451746344566, -0.027144724503159523, -0.02614978328347206, -0.0705467164516449, 0.034717921167612076, 0.007612558081746101, -0.10216667503118515, 0.05842781439423561, -0.0747859850525856, -0.021968010812997818, -0.006808642763644457, -0.051303282380104065, -0.036969881504774094, 0.025690186768770218, -1.7501511351269983e-08, 0.0680966004729271, 0.04500093683600426, -0.04408636689186096, 0.012878757901489735, -0.05775943771004677, -0.09547640383243561, 0.06219945102930069, -0.004272661171853542, -0.00867017824202776, 0.0002549659402575344, -0.07361150532960892, 0.056062184274196625, -0.06970258802175522, -0.05111628770828247, -0.04102282598614693, -0.0047609927132725716, -0.032463204115629196, 0.04304734990000725, 0.008683168329298496, 0.022707821801304817, -0.00490532536059618, 0.023357978090643883, -0.04563943296670914, -0.05810334533452988, 0.012541460804641247, -0.09903232008218765, 0.04062921553850174, 0.04566892609000206, 0.0027159012388437986, -0.005313027650117874, 0.0664028525352478, -0.027287570759654045, -0.05007480829954147, -0.09029495716094971, -0.03612228110432625, 0.012680103071033955, -0.005830496549606323, -0.0050932876765728, 0.009507526643574238, -0.02905246987938881, 0.09497952461242676, 0.061990685760974884, 0.01253664493560791, -0.011961056850850582, 0.024525726214051247, 0.04538298398256302, 0.05382112041115761, -0.035177212208509445, 0.11464709043502808, -0.08902023732662201, -0.1114850863814354, 0.09941156208515167, 0.003938884008675814, 0.004478398710489273, 0.003446627641096711, 0.0708964467048645, -0.051293618977069855, -0.012674203142523766, 0.02187473140656948, -0.020012004300951958, -0.014911338686943054, 0.04920435696840286, 0.08929189294576645, -0.011127760633826256]\n",
      "384\n"
     ]
    }
   ],
   "source": [
    "test_embed=embeddings.embed_query(\"What is the capital of France?\")\n",
    "print(test_embed)\n",
    "print(len(test_embed))"
   ]
  },
  {
   "cell_type": "code",
   "execution_count": null,
   "id": "6fc45610",
   "metadata": {},
   "outputs": [
    {
     "data": {
      "text/plain": [
       "{'dimension': 384,\n",
       " 'index_fullness': 0.0,\n",
       " 'metric': 'dotproduct',\n",
       " 'namespaces': {},\n",
       " 'total_vector_count': 0,\n",
       " 'vector_type': 'dense'}"
      ]
     },
     "execution_count": 16,
     "metadata": {},
     "output_type": "execute_result"
    }
   ],
   "source": [
    "from pinecone import ServerlessSpec\n",
    "from pinecone import Pinecone\n",
    "index_name=\"medical-rag-bot\"\n",
    "PINECONE_API_KEY='\n",
    "\n",
    "pc=Pinecone(api_key=PINECONE_API_KEY)\n",
    "from pinecone import ServerlessSpec\n",
    "if not pc.has_index(name=index_name):\n",
    "    pc.create_index(\n",
    "        name=index_name,\n",
    "        dimension=384,\n",
    "        metric='dotproduct',\n",
    "        spec=ServerlessSpec(\n",
    "            cloud='aws',\n",
    "            region='us-east-1'\n",
    "        )\n",
    "    )\n",
    "index=pc.Index(name=index_name)\n",
    "index.describe_index_stats()"
   ]
  },
  {
   "cell_type": "code",
   "execution_count": 22,
   "id": "7f704c9a",
   "metadata": {},
   "outputs": [],
   "source": [
    "import os\n",
    "os.environ[\"PINECONE_API_KEY\"] = PINECONE_API_KEY"
   ]
  },
  {
   "cell_type": "code",
   "execution_count": 23,
   "id": "2a705733",
   "metadata": {},
   "outputs": [],
   "source": [
    "# Embed each chunk and upsert the embeddings into your Pinecone index.\n",
    "from langchain_pinecone import PineconeVectorStore\n",
    "\n",
    "docsearch = PineconeVectorStore.from_documents(\n",
    "    documents=text_chunks,\n",
    "    index_name=index_name,\n",
    "    embedding=embeddings, \n",
    ")"
   ]
  },
  {
   "cell_type": "code",
   "execution_count": 61,
   "id": "eda43bbb",
   "metadata": {},
   "outputs": [],
   "source": [
    "#initializing docsearch with the existing index\n",
    "from langchain_pinecone import PineconeVectorStore\n",
    "docsearch=PineconeVectorStore.from_existing_index(\n",
    "    index_name=index_name,\n",
    "    embedding=embeddings\n",
    ")"
   ]
  },
  {
   "cell_type": "code",
   "execution_count": 62,
   "id": "1a9bd720",
   "metadata": {},
   "outputs": [],
   "source": [
    "## initializing retriver object\n",
    "retriver=docsearch.as_retriever(search_type=\"similarity\",search_kwargs={\"k\": 3})"
   ]
  },
  {
   "cell_type": "code",
   "execution_count": 63,
   "id": "9c51bf1f",
   "metadata": {},
   "outputs": [
    {
     "data": {
      "text/plain": [
       "[Document(id='b9aeca6e-69aa-41f7-87a9-10da9b7932e6', metadata={'creationdate': '2004-12-18T17:00:02-05:00', 'creator': 'PyPDF', 'moddate': '2004-12-18T16:15:31-06:00', 'page': 39.0, 'page_label': '40', 'producer': 'PDFlib+PDI 5.0.0 (SunOS)', 'source': 'Data/Medical_book.pdf', 'total_pages': 637.0}, page_content='GALE ENCYCLOPEDIA OF MEDICINE 226\\nAcne\\nGEM - 0001 to 0432 - A  10/22/03 1:41 PM  Page 26'),\n",
       " Document(id='2197cd66-1083-4daf-b021-b940418c8bb3', metadata={'creationdate': '2004-12-18T17:00:02-05:00', 'creator': 'PyPDF', 'moddate': '2004-12-18T16:15:31-06:00', 'page': 38.0, 'page_label': '39', 'producer': 'PDFlib+PDI 5.0.0 (SunOS)', 'source': 'Data/Medical_book.pdf', 'total_pages': 637.0}, page_content='GALE ENCYCLOPEDIA OF MEDICINE 2 25\\nAcne\\nAcne vulgaris affecting a woman’s face. Acne is the general\\nname given to a skin disorder in which the sebaceous\\nglands become inflamed.(Photograph by Biophoto Associ-\\nates, Photo Researchers, Inc. Reproduced by permission.)\\nGEM - 0001 to 0432 - A  10/22/03 1:41 PM  Page 25'),\n",
       " Document(id='37c60b69-dc3f-440c-97f7-06306b27e187', metadata={'creationdate': '2004-12-18T17:00:02-05:00', 'creator': 'PyPDF', 'moddate': '2004-12-18T16:15:31-06:00', 'page': 37.0, 'page_label': '38', 'producer': 'PDFlib+PDI 5.0.0 (SunOS)', 'source': 'Data/Medical_book.pdf', 'total_pages': 637.0}, page_content='Acidosis see Respiratory acidosis; Renal\\ntubular acidosis; Metabolic acidosis\\nAcne\\nDefinition\\nAcne is a common skin disease characterized by\\npimples on the face, chest, and back. It occurs when the\\npores of the skin become clogged with oil, dead skin\\ncells, and bacteria.\\nDescription\\nAcne vulgaris, the medical term for common acne, is\\nthe most common skin disease. It affects nearly 17 million\\npeople in the United States. While acne can arise at any')]"
      ]
     },
     "execution_count": 63,
     "metadata": {},
     "output_type": "execute_result"
    }
   ],
   "source": [
    "## testing on a sample query\n",
    "query=\"What is the acne?\"\n",
    "retriver.invoke(input=query)"
   ]
  },
  {
   "cell_type": "code",
   "execution_count": 29,
   "id": "8c54dc55",
   "metadata": {},
   "outputs": [
    {
     "name": "stderr",
     "output_type": "stream",
     "text": [
      "huggingface/tokenizers: The current process just got forked, after parallelism has already been used. Disabling parallelism to avoid deadlocks...\n",
      "To disable this warning, you can either:\n",
      "\t- Avoid using `tokenizers` before the fork if possible\n",
      "\t- Explicitly set the environment variable TOKENIZERS_PARALLELISM=(true | false)\n"
     ]
    }
   ],
   "source": [
    "### getting the llm model installing google gen ai\n",
    "! pip install -q -U google-genai\n",
    "\n"
   ]
  },
  {
   "cell_type": "code",
   "execution_count": 49,
   "id": "7386a8e1",
   "metadata": {},
   "outputs": [
    {
     "name": "stdout",
     "output_type": "stream",
     "text": [
      "Okay, let's break down how AI works, focusing on the core concepts and avoiding overly technical jargon.  Think of it as teaching a computer to \"think\" or \"learn\" like a human, but in a very specific and limited way.\n",
      "\n",
      "**The Basic Idea: Learning from Data**\n",
      "\n",
      "At its heart, AI is about creating systems that can learn from data, identify patterns, and make decisions or predictions based on those patterns.  Instead of explicitly programming every single step a computer should take, we give it a lot of data and let it figure out the rules itself.\n",
      "\n",
      "**Key Components and Concepts:**\n",
      "\n",
      "1.  **Data:** This is the fuel for AI.  It can be anything:\n",
      "    *   **Images:**  For teaching a computer to recognize objects in pictures.\n",
      "    *   **Text:**  For understanding language, translating, or writing.\n",
      "    *   **Numbers:**  For predicting stock prices, analyzing sales trends, or diagnosing medical conditions.\n",
      "    *   **Audio:** For speech recognition or music generation.\n",
      "    *   **Video:** For analyzing human behavior or self-driving cars.\n",
      "\n",
      "    The more data, and the better the quality of the data, the better the AI system will generally perform.\n",
      "\n",
      "2.  **Algorithms:** These are the sets of instructions that tell the computer *how* to learn from the data.  There are many different types of algorithms, each suited for different tasks.  Here are a few common ones:\n",
      "\n",
      "    *   **Machine Learning (ML):** This is the most common type of AI.  It involves training algorithms to learn from data without being explicitly programmed.  Think of it like teaching a dog a trick: you show it what you want it to do, reward it when it gets it right, and correct it when it gets it wrong.  The algorithm adjusts itself over time to get better at the task.\n",
      "\n",
      "        *   **Supervised Learning:**  The algorithm is trained on labeled data.  This means each piece of data has a \"correct answer\" associated with it.  For example, you might show the algorithm thousands of pictures of cats and dogs, and tell it which ones are cats and which ones are dogs.  The algorithm learns to associate features (like pointy ears or a long tail) with the correct label.  Used for:\n",
      "            *   **Classification:**  Categorizing data into different groups (e.\n"
     ]
    }
   ],
   "source": [
    "from google import genai\n",
    "from google.genai import types\n",
    "\n",
    "client = genai.Client(api_key=GEMINI_API_KEY)\n",
    "\n",
    "response = client.models.generate_content(\n",
    "    model=\"gemini-2.0-flash\",\n",
    "    contents=[\"Explain how AI works\"],\n",
    "    config=types.GenerateContentConfig(\n",
    "        max_output_tokens=500,\n",
    "        temperature=0.1\n",
    "    )\n",
    ")\n",
    "print(response.text)"
   ]
  },
  {
   "cell_type": "code",
   "execution_count": 52,
   "id": "c811b0f4",
   "metadata": {},
   "outputs": [
    {
     "name": "stderr",
     "output_type": "stream",
     "text": [
      "huggingface/tokenizers: The current process just got forked, after parallelism has already been used. Disabling parallelism to avoid deadlocks...\n",
      "To disable this warning, you can either:\n",
      "\t- Avoid using `tokenizers` before the fork if possible\n",
      "\t- Explicitly set the environment variable TOKENIZERS_PARALLELISM=(true | false)\n"
     ]
    },
    {
     "name": "stdout",
     "output_type": "stream",
     "text": [
      "Requirement already satisfied: langchain-google-genai in /Users/pratikshankar/miniforge3/envs/openaidemo/lib/python3.10/site-packages (2.1.3)\n",
      "Requirement already satisfied: filetype<2.0.0,>=1.2.0 in /Users/pratikshankar/miniforge3/envs/openaidemo/lib/python3.10/site-packages (from langchain-google-genai) (1.2.0)\n",
      "Requirement already satisfied: google-ai-generativelanguage<0.7.0,>=0.6.16 in /Users/pratikshankar/miniforge3/envs/openaidemo/lib/python3.10/site-packages (from langchain-google-genai) (0.6.17)\n",
      "Requirement already satisfied: langchain-core<0.4.0,>=0.3.52 in /Users/pratikshankar/miniforge3/envs/openaidemo/lib/python3.10/site-packages (from langchain-google-genai) (0.3.54)\n",
      "Requirement already satisfied: pydantic<3,>=2 in /Users/pratikshankar/miniforge3/envs/openaidemo/lib/python3.10/site-packages (from langchain-google-genai) (2.11.3)\n",
      "Requirement already satisfied: google-api-core!=2.0.*,!=2.1.*,!=2.10.*,!=2.2.*,!=2.3.*,!=2.4.*,!=2.5.*,!=2.6.*,!=2.7.*,!=2.8.*,!=2.9.*,<3.0.0,>=1.34.1 in /Users/pratikshankar/miniforge3/envs/openaidemo/lib/python3.10/site-packages (from google-api-core[grpc]!=2.0.*,!=2.1.*,!=2.10.*,!=2.2.*,!=2.3.*,!=2.4.*,!=2.5.*,!=2.6.*,!=2.7.*,!=2.8.*,!=2.9.*,<3.0.0,>=1.34.1->google-ai-generativelanguage<0.7.0,>=0.6.16->langchain-google-genai) (2.24.2)\n",
      "Requirement already satisfied: google-auth!=2.24.0,!=2.25.0,<3.0.0,>=2.14.1 in /Users/pratikshankar/miniforge3/envs/openaidemo/lib/python3.10/site-packages (from google-ai-generativelanguage<0.7.0,>=0.6.16->langchain-google-genai) (2.39.0)\n",
      "Requirement already satisfied: proto-plus<2.0.0,>=1.22.3 in /Users/pratikshankar/miniforge3/envs/openaidemo/lib/python3.10/site-packages (from google-ai-generativelanguage<0.7.0,>=0.6.16->langchain-google-genai) (1.26.1)\n",
      "Requirement already satisfied: protobuf!=4.21.0,!=4.21.1,!=4.21.2,!=4.21.3,!=4.21.4,!=4.21.5,<7.0.0,>=3.20.2 in /Users/pratikshankar/miniforge3/envs/openaidemo/lib/python3.10/site-packages (from google-ai-generativelanguage<0.7.0,>=0.6.16->langchain-google-genai) (6.31.0rc1)\n",
      "Requirement already satisfied: langsmith<0.4,>=0.1.125 in /Users/pratikshankar/miniforge3/envs/openaidemo/lib/python3.10/site-packages (from langchain-core<0.4.0,>=0.3.52->langchain-google-genai) (0.3.32)\n",
      "Requirement already satisfied: tenacity!=8.4.0,<10.0.0,>=8.1.0 in /Users/pratikshankar/miniforge3/envs/openaidemo/lib/python3.10/site-packages (from langchain-core<0.4.0,>=0.3.52->langchain-google-genai) (9.1.2)\n",
      "Requirement already satisfied: jsonpatch<2.0,>=1.33 in /Users/pratikshankar/miniforge3/envs/openaidemo/lib/python3.10/site-packages (from langchain-core<0.4.0,>=0.3.52->langchain-google-genai) (1.33)\n",
      "Requirement already satisfied: PyYAML>=5.3 in /Users/pratikshankar/miniforge3/envs/openaidemo/lib/python3.10/site-packages (from langchain-core<0.4.0,>=0.3.52->langchain-google-genai) (6.0.2)\n",
      "Requirement already satisfied: packaging<25,>=23.2 in /Users/pratikshankar/miniforge3/envs/openaidemo/lib/python3.10/site-packages (from langchain-core<0.4.0,>=0.3.52->langchain-google-genai) (24.2)\n",
      "Requirement already satisfied: typing-extensions>=4.7 in /Users/pratikshankar/miniforge3/envs/openaidemo/lib/python3.10/site-packages (from langchain-core<0.4.0,>=0.3.52->langchain-google-genai) (4.13.2)\n",
      "Requirement already satisfied: annotated-types>=0.6.0 in /Users/pratikshankar/miniforge3/envs/openaidemo/lib/python3.10/site-packages (from pydantic<3,>=2->langchain-google-genai) (0.7.0)\n",
      "Requirement already satisfied: pydantic-core==2.33.1 in /Users/pratikshankar/miniforge3/envs/openaidemo/lib/python3.10/site-packages (from pydantic<3,>=2->langchain-google-genai) (2.33.1)\n",
      "Requirement already satisfied: typing-inspection>=0.4.0 in /Users/pratikshankar/miniforge3/envs/openaidemo/lib/python3.10/site-packages (from pydantic<3,>=2->langchain-google-genai) (0.4.0)\n",
      "Requirement already satisfied: googleapis-common-protos<2.0.0,>=1.56.2 in /Users/pratikshankar/miniforge3/envs/openaidemo/lib/python3.10/site-packages (from google-api-core!=2.0.*,!=2.1.*,!=2.10.*,!=2.2.*,!=2.3.*,!=2.4.*,!=2.5.*,!=2.6.*,!=2.7.*,!=2.8.*,!=2.9.*,<3.0.0,>=1.34.1->google-api-core[grpc]!=2.0.*,!=2.1.*,!=2.10.*,!=2.2.*,!=2.3.*,!=2.4.*,!=2.5.*,!=2.6.*,!=2.7.*,!=2.8.*,!=2.9.*,<3.0.0,>=1.34.1->google-ai-generativelanguage<0.7.0,>=0.6.16->langchain-google-genai) (1.70.0)\n",
      "Requirement already satisfied: requests<3.0.0,>=2.18.0 in /Users/pratikshankar/miniforge3/envs/openaidemo/lib/python3.10/site-packages (from google-api-core!=2.0.*,!=2.1.*,!=2.10.*,!=2.2.*,!=2.3.*,!=2.4.*,!=2.5.*,!=2.6.*,!=2.7.*,!=2.8.*,!=2.9.*,<3.0.0,>=1.34.1->google-api-core[grpc]!=2.0.*,!=2.1.*,!=2.10.*,!=2.2.*,!=2.3.*,!=2.4.*,!=2.5.*,!=2.6.*,!=2.7.*,!=2.8.*,!=2.9.*,<3.0.0,>=1.34.1->google-ai-generativelanguage<0.7.0,>=0.6.16->langchain-google-genai) (2.32.3)\n",
      "Requirement already satisfied: grpcio<2.0dev,>=1.33.2 in /Users/pratikshankar/miniforge3/envs/openaidemo/lib/python3.10/site-packages (from google-api-core[grpc]!=2.0.*,!=2.1.*,!=2.10.*,!=2.2.*,!=2.3.*,!=2.4.*,!=2.5.*,!=2.6.*,!=2.7.*,!=2.8.*,!=2.9.*,<3.0.0,>=1.34.1->google-ai-generativelanguage<0.7.0,>=0.6.16->langchain-google-genai) (1.72.0rc1)\n",
      "Requirement already satisfied: grpcio-status<2.0.dev0,>=1.33.2 in /Users/pratikshankar/miniforge3/envs/openaidemo/lib/python3.10/site-packages (from google-api-core[grpc]!=2.0.*,!=2.1.*,!=2.10.*,!=2.2.*,!=2.3.*,!=2.4.*,!=2.5.*,!=2.6.*,!=2.7.*,!=2.8.*,!=2.9.*,<3.0.0,>=1.34.1->google-ai-generativelanguage<0.7.0,>=0.6.16->langchain-google-genai) (1.72.0rc1)\n",
      "Requirement already satisfied: cachetools<6.0,>=2.0.0 in /Users/pratikshankar/miniforge3/envs/openaidemo/lib/python3.10/site-packages (from google-auth!=2.24.0,!=2.25.0,<3.0.0,>=2.14.1->google-ai-generativelanguage<0.7.0,>=0.6.16->langchain-google-genai) (5.5.2)\n",
      "Requirement already satisfied: pyasn1-modules>=0.2.1 in /Users/pratikshankar/miniforge3/envs/openaidemo/lib/python3.10/site-packages (from google-auth!=2.24.0,!=2.25.0,<3.0.0,>=2.14.1->google-ai-generativelanguage<0.7.0,>=0.6.16->langchain-google-genai) (0.4.2)\n",
      "Requirement already satisfied: rsa<5,>=3.1.4 in /Users/pratikshankar/miniforge3/envs/openaidemo/lib/python3.10/site-packages (from google-auth!=2.24.0,!=2.25.0,<3.0.0,>=2.14.1->google-ai-generativelanguage<0.7.0,>=0.6.16->langchain-google-genai) (4.9.1)\n",
      "Requirement already satisfied: jsonpointer>=1.9 in /Users/pratikshankar/miniforge3/envs/openaidemo/lib/python3.10/site-packages (from jsonpatch<2.0,>=1.33->langchain-core<0.4.0,>=0.3.52->langchain-google-genai) (3.0.0)\n",
      "Requirement already satisfied: httpx<1,>=0.23.0 in /Users/pratikshankar/miniforge3/envs/openaidemo/lib/python3.10/site-packages (from langsmith<0.4,>=0.1.125->langchain-core<0.4.0,>=0.3.52->langchain-google-genai) (0.28.1)\n",
      "Requirement already satisfied: orjson<4.0.0,>=3.9.14 in /Users/pratikshankar/miniforge3/envs/openaidemo/lib/python3.10/site-packages (from langsmith<0.4,>=0.1.125->langchain-core<0.4.0,>=0.3.52->langchain-google-genai) (3.10.16)\n",
      "Requirement already satisfied: requests-toolbelt<2.0.0,>=1.0.0 in /Users/pratikshankar/miniforge3/envs/openaidemo/lib/python3.10/site-packages (from langsmith<0.4,>=0.1.125->langchain-core<0.4.0,>=0.3.52->langchain-google-genai) (1.0.0)\n",
      "Requirement already satisfied: zstandard<0.24.0,>=0.23.0 in /Users/pratikshankar/miniforge3/envs/openaidemo/lib/python3.10/site-packages (from langsmith<0.4,>=0.1.125->langchain-core<0.4.0,>=0.3.52->langchain-google-genai) (0.23.0)\n",
      "Requirement already satisfied: anyio in /Users/pratikshankar/miniforge3/envs/openaidemo/lib/python3.10/site-packages (from httpx<1,>=0.23.0->langsmith<0.4,>=0.1.125->langchain-core<0.4.0,>=0.3.52->langchain-google-genai) (4.9.0)\n",
      "Requirement already satisfied: certifi in /Users/pratikshankar/miniforge3/envs/openaidemo/lib/python3.10/site-packages (from httpx<1,>=0.23.0->langsmith<0.4,>=0.1.125->langchain-core<0.4.0,>=0.3.52->langchain-google-genai) (2025.1.31)\n",
      "Requirement already satisfied: httpcore==1.* in /Users/pratikshankar/miniforge3/envs/openaidemo/lib/python3.10/site-packages (from httpx<1,>=0.23.0->langsmith<0.4,>=0.1.125->langchain-core<0.4.0,>=0.3.52->langchain-google-genai) (1.0.8)\n",
      "Requirement already satisfied: idna in /Users/pratikshankar/miniforge3/envs/openaidemo/lib/python3.10/site-packages (from httpx<1,>=0.23.0->langsmith<0.4,>=0.1.125->langchain-core<0.4.0,>=0.3.52->langchain-google-genai) (3.10)\n",
      "Requirement already satisfied: h11<0.15,>=0.13 in /Users/pratikshankar/miniforge3/envs/openaidemo/lib/python3.10/site-packages (from httpcore==1.*->httpx<1,>=0.23.0->langsmith<0.4,>=0.1.125->langchain-core<0.4.0,>=0.3.52->langchain-google-genai) (0.14.0)\n",
      "Requirement already satisfied: pyasn1<0.7.0,>=0.6.1 in /Users/pratikshankar/miniforge3/envs/openaidemo/lib/python3.10/site-packages (from pyasn1-modules>=0.2.1->google-auth!=2.24.0,!=2.25.0,<3.0.0,>=2.14.1->google-ai-generativelanguage<0.7.0,>=0.6.16->langchain-google-genai) (0.6.1)\n",
      "Requirement already satisfied: charset-normalizer<4,>=2 in /Users/pratikshankar/miniforge3/envs/openaidemo/lib/python3.10/site-packages (from requests<3.0.0,>=2.18.0->google-api-core!=2.0.*,!=2.1.*,!=2.10.*,!=2.2.*,!=2.3.*,!=2.4.*,!=2.5.*,!=2.6.*,!=2.7.*,!=2.8.*,!=2.9.*,<3.0.0,>=1.34.1->google-api-core[grpc]!=2.0.*,!=2.1.*,!=2.10.*,!=2.2.*,!=2.3.*,!=2.4.*,!=2.5.*,!=2.6.*,!=2.7.*,!=2.8.*,!=2.9.*,<3.0.0,>=1.34.1->google-ai-generativelanguage<0.7.0,>=0.6.16->langchain-google-genai) (3.4.1)\n",
      "Requirement already satisfied: urllib3<3,>=1.21.1 in /Users/pratikshankar/miniforge3/envs/openaidemo/lib/python3.10/site-packages (from requests<3.0.0,>=2.18.0->google-api-core!=2.0.*,!=2.1.*,!=2.10.*,!=2.2.*,!=2.3.*,!=2.4.*,!=2.5.*,!=2.6.*,!=2.7.*,!=2.8.*,!=2.9.*,<3.0.0,>=1.34.1->google-api-core[grpc]!=2.0.*,!=2.1.*,!=2.10.*,!=2.2.*,!=2.3.*,!=2.4.*,!=2.5.*,!=2.6.*,!=2.7.*,!=2.8.*,!=2.9.*,<3.0.0,>=1.34.1->google-ai-generativelanguage<0.7.0,>=0.6.16->langchain-google-genai) (2.4.0)\n",
      "Requirement already satisfied: exceptiongroup>=1.0.2 in /Users/pratikshankar/miniforge3/envs/openaidemo/lib/python3.10/site-packages (from anyio->httpx<1,>=0.23.0->langsmith<0.4,>=0.1.125->langchain-core<0.4.0,>=0.3.52->langchain-google-genai) (1.2.2)\n",
      "Requirement already satisfied: sniffio>=1.1 in /Users/pratikshankar/miniforge3/envs/openaidemo/lib/python3.10/site-packages (from anyio->httpx<1,>=0.23.0->langsmith<0.4,>=0.1.125->langchain-core<0.4.0,>=0.3.52->langchain-google-genai) (1.3.1)\n"
     ]
    }
   ],
   "source": [
    "### now trying gemenai with langchain\n",
    "! pip install  langchain-google-genai"
   ]
  },
  {
   "cell_type": "code",
   "execution_count": 66,
   "id": "db909d9f",
   "metadata": {},
   "outputs": [],
   "source": [
    "from langchain_google_genai import ChatGoogleGenerativeAI\n",
    "\n",
    "llm = ChatGoogleGenerativeAI(\n",
    "    model=\"gemini-2.0-flash-001\",\n",
    "    api_key=GEMINI_API_KEY,\n",
    "    temperature=0.5,\n",
    "    max_tokens=1024,\n",
    "    timeout=None,\n",
    "    max_retries=2\n",
    ")"
   ]
  },
  {
   "cell_type": "code",
   "execution_count": 57,
   "id": "1a53ba00",
   "metadata": {},
   "outputs": [
    {
     "data": {
      "text/plain": [
       "AIMessage(content=\"J'adore la programmation.\", additional_kwargs={}, response_metadata={'prompt_feedback': {'block_reason': 0, 'safety_ratings': []}, 'finish_reason': 'STOP', 'model_name': 'gemini-2.0-flash-001', 'safety_ratings': []}, id='run-6d15926f-d1a7-47ee-abe3-2cbe5eba10c1-0', usage_metadata={'input_tokens': 20, 'output_tokens': 7, 'total_tokens': 27, 'input_token_details': {'cache_read': 0}})"
      ]
     },
     "execution_count": 57,
     "metadata": {},
     "output_type": "execute_result"
    }
   ],
   "source": [
    "messages = [\n",
    "    (\n",
    "        \"system\",\n",
    "        \"You are a helpful assistant that translates English to French. Translate the user sentence.\",\n",
    "    ),\n",
    "    (\"human\", \"I love programming.\"),\n",
    "]\n",
    "ai_msg = llm.invoke(messages)\n",
    "ai_msg"
   ]
  },
  {
   "cell_type": "code",
   "execution_count": 68,
   "id": "6e081eb1",
   "metadata": {},
   "outputs": [
    {
     "name": "stdout",
     "output_type": "stream",
     "text": [
      "Answer: The document is an excerpt from \"The Gale Encyclopedia of Medicine, Second Edition.\" It includes copyright information and mentions Deepak Chopra's work, particularly his book \"Ageless Body, Timeless Mind,\" where he argues that aging is not an inevitable deterioration and can be influenced and slowed down.\n",
      "\n",
      "Sources:\n"
     ]
    }
   ],
   "source": [
    "from langchain.chains import RetrievalQA\n",
    "\n",
    "qa_chain = RetrievalQA.from_chain_type(\n",
    "    llm=llm,\n",
    "    retriever=retriver,\n",
    "    return_source_documents=True\n",
    ")\n",
    "\n",
    "query = \"What is the main idea of the document?\"\n",
    "result = qa_chain.invoke({\"query\": query})\n",
    "\n",
    "print(\"Answer:\", result[\"result\"])\n",
    "print(\"\\nSources:\")"
   ]
  },
  {
   "cell_type": "code",
   "execution_count": 74,
   "id": "79769d8a",
   "metadata": {},
   "outputs": [
    {
     "name": "stdout",
     "output_type": "stream",
     "text": [
      "Acromegaly is a disorder caused by the abnormal release of a chemical from the pituitary gland, leading to increased bone and soft tissue growth, as well as other bodily disturbances. When this abnormality occurs before bone growth stops, it results in unusual height, known as gigantism. Acromegaly is a relatively rare disorder, affecting approximately 50 out of every one million people.\n"
     ]
    }
   ],
   "source": [
    "from langchain.chains import create_retrieval_chain\n",
    "from langchain.chains.combine_documents import create_stuff_documents_chain\n",
    "from langchain_core.prompts import ChatPromptTemplate\n",
    "from langchain_community.vectorstores import Chroma\n",
    "# from langchain.embeddings import GoogleGenerativeAIEmbeddings\n",
    "from langchain_community.document_loaders import TextLoader\n",
    "from langchain.text_splitter import CharacterTextSplitter\n",
    "from langchain_google_genai import ChatGoogleGenerativeAI\n",
    "\n",
    "system_prompt = (\n",
    "    \"You are an assistant for question-answering tasks. \"\n",
    "    \"Use the following pieces of retrieved context to answer \"\n",
    "    \"the question. If you don't know the answer, say that you \"\n",
    "    \"don't know. Use three sentences maximum and keep the \"\n",
    "    \"answer concise.\\n\\n{context}\"\n",
    ")\n",
    "\n",
    "prompt = ChatPromptTemplate.from_messages([\n",
    "    (\"system\", system_prompt),\n",
    "    (\"human\", \"{input}\")\n",
    "])\n",
    "\n",
    "question_answer_chain = create_stuff_documents_chain(llm, prompt)\n",
    "rag_chain = create_retrieval_chain(retriver, question_answer_chain)\n",
    "\n",
    "# Query\n",
    "query = \"What is Acromegaly and gigantism?\"\n",
    "response = rag_chain.invoke({\"input\": query})\n",
    "\n",
    "print(response[\"answer\"])\n"
   ]
  },
  {
   "cell_type": "code",
   "execution_count": 75,
   "id": "23f720d5",
   "metadata": {},
   "outputs": [
    {
     "name": "stdout",
     "output_type": "stream",
     "text": [
      "📘 Ask me anything related to medical (type 'exit' to quit):\n",
      "\n",
      "🤖 Question: hello\n",
      "\n",
      "🤖 Answer: Hello! How can I help you?\n",
      "\n",
      "🤖 Question: my asshole hurts\n",
      "\n",
      "🤖 Answer: There are several potential causes of pain in the anorectal area, including anal fissures, anorectal abscesses, and anorectal fistulas. Anal fissures are tears in the lining of the anus, often caused by hard bowel movements. Anorectal abscesses are pus-forming infections, while anorectal fistulas are abnormal openings from the anorectal area to another part of the body.\n",
      "👋 Exiting. Have a great day!\n"
     ]
    }
   ],
   "source": [
    "print(\"📘 Ask me anything related to medical (type 'exit' to quit):\")\n",
    "while True:\n",
    "    user_input = input(\"\\n🧠 Your question: \").strip()\n",
    "    if user_input.lower() in (\"exit\", \"quit\"):\n",
    "        print(\"👋 Exiting. Have a great day!\")\n",
    "        break\n",
    "\n",
    "    try:\n",
    "        response = rag_chain.invoke({\"input\": user_input})\n",
    "        print(f\"\\n🤖 Question: {user_input}\")\n",
    "        print(f\"\\n🤖 Answer: {response['answer']}\")\n",
    "    except Exception as e:\n",
    "        print(f\"⚠️ Error: {e}\")"
   ]
  },
  {
   "cell_type": "code",
   "execution_count": null,
   "id": "70b48b6c",
   "metadata": {},
   "outputs": [],
   "source": []
  }
 ],
 "metadata": {
  "kernelspec": {
   "display_name": "Python 3",
   "language": "python",
   "name": "python3"
  },
  "language_info": {
   "codemirror_mode": {
    "name": "ipython",
    "version": 3
   },
   "file_extension": ".py",
   "mimetype": "text/x-python",
   "name": "python",
   "nbconvert_exporter": "python",
   "pygments_lexer": "ipython3",
   "version": "3.10.16"
  }
 },
 "nbformat": 4,
 "nbformat_minor": 5
}
