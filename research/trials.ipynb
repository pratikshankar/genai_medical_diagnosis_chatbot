{
 "cells": [
  {
   "cell_type": "code",
   "execution_count": 1,
   "id": "2c60e479",
   "metadata": {},
   "outputs": [
    {
     "name": "stdout",
     "output_type": "stream",
     "text": [
      "ok\n"
     ]
    }
   ],
   "source": [
    "print(\"ok\")"
   ]
  },
  {
   "cell_type": "code",
   "execution_count": 3,
   "id": "99e4ebc6",
   "metadata": {},
   "outputs": [
    {
     "data": {
      "text/plain": [
       "'/Users/pratikshankar/code/genai_projects/genai_medical_diagnosis_chatbot'"
      ]
     },
     "execution_count": 3,
     "metadata": {},
     "output_type": "execute_result"
    }
   ],
   "source": [
    "%pwd"
   ]
  },
  {
   "cell_type": "code",
   "execution_count": 2,
   "id": "09ff4c79",
   "metadata": {},
   "outputs": [],
   "source": [
    "## set pwd to root roject dir so that all paths are relative to it and no path issue happens\n",
    "import os\n",
    "os.chdir(\"../\")\n"
   ]
  },
  {
   "cell_type": "code",
   "execution_count": 4,
   "id": "b04141d6",
   "metadata": {},
   "outputs": [],
   "source": [
    "from dotenv import load_dotenv\n",
    "import os\n",
    "\n",
    "# Load environment variables from .env file\n",
    "load_dotenv()\n",
    "\n",
    "# Access the API key\n",
    "GEMINI_API_KEY = os.getenv(\"GEMINI_API_KEY\")\n",
    "PINECONE_API_KEY=os.getenv(\"PINECONE_API_KEY\")"
   ]
  },
  {
   "cell_type": "code",
   "execution_count": 5,
   "id": "c87adc62",
   "metadata": {},
   "outputs": [],
   "source": [
    "from langchain.document_loaders import PyPDFLoader, DirectoryLoader\n",
    "from langchain.text_splitter import RecursiveCharacterTextSplitter"
   ]
  },
  {
   "cell_type": "code",
   "execution_count": 4,
   "id": "8a1eb9fe",
   "metadata": {},
   "outputs": [],
   "source": [
    "def load_pdf_file(data):\n",
    "    loader=DirectoryLoader(data, glob=\"*.pdf\", loader_cls=PyPDFLoader)\n",
    "    documents = loader.load()\n",
    "    return documents"
   ]
  },
  {
   "cell_type": "code",
   "execution_count": 5,
   "id": "9070a817",
   "metadata": {},
   "outputs": [],
   "source": [
    "extracted_data=load_pdf_file(data=\"Data/\")"
   ]
  },
  {
   "cell_type": "code",
   "execution_count": 6,
   "id": "a2432a8f",
   "metadata": {},
   "outputs": [
    {
     "data": {
      "text/plain": [
       "[Document(metadata={'producer': 'PDFlib+PDI 5.0.0 (SunOS)', 'creator': 'PyPDF', 'creationdate': '2004-12-18T17:00:02-05:00', 'moddate': '2004-12-18T16:15:31-06:00', 'source': 'Data/Medical_book.pdf', 'total_pages': 637, 'page': 0, 'page_label': '1'}, page_content=''),\n",
       " Document(metadata={'producer': 'PDFlib+PDI 5.0.0 (SunOS)', 'creator': 'PyPDF', 'creationdate': '2004-12-18T17:00:02-05:00', 'moddate': '2004-12-18T16:15:31-06:00', 'source': 'Data/Medical_book.pdf', 'total_pages': 637, 'page': 1, 'page_label': '2'}, page_content='The GALE\\nENCYCLOPEDIA\\nof MEDICINE\\nSECOND EDITION'),\n",
       " Document(metadata={'producer': 'PDFlib+PDI 5.0.0 (SunOS)', 'creator': 'PyPDF', 'creationdate': '2004-12-18T17:00:02-05:00', 'moddate': '2004-12-18T16:15:31-06:00', 'source': 'Data/Medical_book.pdf', 'total_pages': 637, 'page': 2, 'page_label': '3'}, page_content='The GALE\\nENCYCLOPEDIA\\nof MEDICINE\\nSECOND EDITION\\nJACQUELINE L. LONGE, EDITOR\\nDEIRDRE S. BLANCHFIELD, ASSOCIATE EDITOR\\nVOLUME\\nA-B\\n1')]"
      ]
     },
     "execution_count": 6,
     "metadata": {},
     "output_type": "execute_result"
    }
   ],
   "source": [
    "extracted_data[:3]"
   ]
  },
  {
   "cell_type": "code",
   "execution_count": 7,
   "id": "f0bca372",
   "metadata": {},
   "outputs": [],
   "source": [
    "def text_split(extracted_data):\n",
    "    text_splitter = RecursiveCharacterTextSplitter(\n",
    "        chunk_size=500,\n",
    "        chunk_overlap=20,\n",
    "        length_function=len,\n",
    "        \n",
    "    )\n",
    "    texts = text_splitter.split_documents(extracted_data)\n",
    "    return texts"
   ]
  },
  {
   "cell_type": "code",
   "execution_count": 8,
   "id": "a3e497fd",
   "metadata": {},
   "outputs": [
    {
     "data": {
      "text/plain": [
       "[Document(metadata={'producer': 'PDFlib+PDI 5.0.0 (SunOS)', 'creator': 'PyPDF', 'creationdate': '2004-12-18T17:00:02-05:00', 'moddate': '2004-12-18T16:15:31-06:00', 'source': 'Data/Medical_book.pdf', 'total_pages': 637, 'page': 1, 'page_label': '2'}, page_content='The GALE\\nENCYCLOPEDIA\\nof MEDICINE\\nSECOND EDITION'),\n",
       " Document(metadata={'producer': 'PDFlib+PDI 5.0.0 (SunOS)', 'creator': 'PyPDF', 'creationdate': '2004-12-18T17:00:02-05:00', 'moddate': '2004-12-18T16:15:31-06:00', 'source': 'Data/Medical_book.pdf', 'total_pages': 637, 'page': 2, 'page_label': '3'}, page_content='The GALE\\nENCYCLOPEDIA\\nof MEDICINE\\nSECOND EDITION\\nJACQUELINE L. LONGE, EDITOR\\nDEIRDRE S. BLANCHFIELD, ASSOCIATE EDITOR\\nVOLUME\\nA-B\\n1'),\n",
       " Document(metadata={'producer': 'PDFlib+PDI 5.0.0 (SunOS)', 'creator': 'PyPDF', 'creationdate': '2004-12-18T17:00:02-05:00', 'moddate': '2004-12-18T16:15:31-06:00', 'source': 'Data/Medical_book.pdf', 'total_pages': 637, 'page': 3, 'page_label': '4'}, page_content='STAFF\\nJacqueline L. Longe, Project Editor\\nDeirdre S. Blanchfield, Associate Editor\\nChristine B. Jeryan, Managing Editor\\nDonna Olendorf, Senior Editor\\nStacey Blachford, Associate Editor\\nKate Kretschmann, Melissa C. McDade, Ryan\\nThomason, Assistant Editors\\nMark Springer, Technical Specialist\\nAndrea Lopeman, Programmer/Analyst\\nBarbara J. Yarrow,Manager, Imaging and Multimedia\\nContent\\nRobyn V . Young,Project Manager, Imaging and\\nMultimedia Content\\nDean Dauphinais, Senior Editor, Imaging and')]"
      ]
     },
     "execution_count": 8,
     "metadata": {},
     "output_type": "execute_result"
    }
   ],
   "source": [
    "text_chunks=text_split(extracted_data=extracted_data)\n",
    "text_chunks[:3]"
   ]
  },
  {
   "cell_type": "code",
   "execution_count": 9,
   "id": "c73d7c24",
   "metadata": {},
   "outputs": [
    {
     "name": "stdout",
     "output_type": "stream",
     "text": [
      "5860\n"
     ]
    }
   ],
   "source": [
    "print(len(text_chunks))"
   ]
  },
  {
   "cell_type": "code",
   "execution_count": 10,
   "id": "220af7a8",
   "metadata": {},
   "outputs": [
    {
     "data": {
      "text/plain": [
       "Document(metadata={'producer': 'PDFlib+PDI 5.0.0 (SunOS)', 'creator': 'PyPDF', 'creationdate': '2004-12-18T17:00:02-05:00', 'moddate': '2004-12-18T16:15:31-06:00', 'source': 'Data/Medical_book.pdf', 'total_pages': 637, 'page': 3, 'page_label': '4'}, page_content='mation presented in this publication, the Gale Group neither guarantees\\nthe accuracy of the data contained herein nor assumes any responsibili-\\nty for errors, omissions or discrepancies. The Gale Group accepts no\\npayment for listing, and inclusion in the publication of any organiza-\\ntion, agency, institution, publication, service, or individual does not\\nimply endorsement of the editor or publisher. Errors brought to the\\nattention of the publisher and verified to the satisfaction of the publish-')"
      ]
     },
     "execution_count": 10,
     "metadata": {},
     "output_type": "execute_result"
    }
   ],
   "source": [
    "text_chunks[5]"
   ]
  },
  {
   "cell_type": "code",
   "execution_count": 11,
   "id": "e0c159b1",
   "metadata": {},
   "outputs": [],
   "source": [
    "from langchain.embeddings import HuggingFaceEmbeddings\n",
    "#Download the Embeddings from Hugging Face\n",
    "def download_hugging_face_embeddings():\n",
    "    embeddings=HuggingFaceEmbeddings(model_name='NeuML/pubmedbert-base-embeddings')#'sentence-transformers/all-MiniLM-L6-v2')\n",
    "    return embeddings"
   ]
  },
  {
   "cell_type": "code",
   "execution_count": 12,
   "id": "03cc1e70",
   "metadata": {},
   "outputs": [
    {
     "name": "stderr",
     "output_type": "stream",
     "text": [
      "/var/folders/k1/x62ylx3s0ql0pz7bqk9qgm0c0000gn/T/ipykernel_19473/833450393.py:4: LangChainDeprecationWarning: The class `HuggingFaceEmbeddings` was deprecated in LangChain 0.2.2 and will be removed in 1.0. An updated version of the class exists in the :class:`~langchain-huggingface package and should be used instead. To use it run `pip install -U :class:`~langchain-huggingface` and import as `from :class:`~langchain_huggingface import HuggingFaceEmbeddings``.\n",
      "  embeddings=HuggingFaceEmbeddings(model_name='NeuML/pubmedbert-base-embeddings')#'sentence-transformers/all-MiniLM-L6-v2')\n"
     ]
    }
   ],
   "source": [
    "embeddings = download_hugging_face_embeddings()"
   ]
  },
  {
   "cell_type": "code",
   "execution_count": 13,
   "id": "1a4c83de",
   "metadata": {},
   "outputs": [
    {
     "name": "stdout",
     "output_type": "stream",
     "text": [
      "[-0.45979446172714233, 0.5011295676231384, 1.1710445880889893, 0.3713446855545044, 0.06787635385990143, 0.020253188908100128, 0.29282861948013306, -0.4526583254337311, -0.7696207761764526, 0.7808628678321838, -0.09791549295186996, 0.20793147385120392, -0.044751737266778946, 0.2153594046831131, -0.5554811954498291, -0.43341541290283203, 0.8805646896362305, -0.015053298324346542, -0.9312606453895569, 0.7695304155349731, 0.17711082100868225, -0.41424641013145447, -0.3014194667339325, -0.050683364272117615, 0.4293561279773712, 0.009413626976311207, 0.2733058035373688, -0.39830341935157776, -0.6303384304046631, 0.737729012966156, -0.1128087043762207, -0.42081204056739807, 0.47994157671928406, -0.12350811064243317, -0.25685083866119385, 0.17177718877792358, -0.7662163376808167, 0.4591330289840698, 0.04882939159870148, -0.5933152437210083, 0.11310940235853195, -0.6384232044219971, -0.8826925754547119, 0.1786181777715683, 0.16940754652023315, -0.11732219159603119, -0.7565232515335083, 0.12582504749298096, -0.23761330544948578, 0.3699292540550232, -0.1082988977432251, 0.23285433650016785, 0.041511841118335724, -0.03007887490093708, 0.7941415309906006, 0.633958101272583, -0.8675234317779541, 0.45421186089515686, -0.20679810643196106, -0.709868311882019, -0.1670822948217392, -0.0031188460998237133, 0.8820992708206177, -0.5325137972831726, -0.040713053196668625, 0.7228471636772156, 0.45031240582466125, 0.4990290105342865, 0.20946866273880005, -0.05362837016582489, 0.6219926476478577, 0.38191843032836914, -0.11861427873373032, -0.27259713411331177, -0.29465600848197937, 0.4340515732765198, -0.4637564420700073, 1.022188425064087, -1.4616219997406006, -0.026797644793987274, 1.0592868328094482, -0.3688327372074127, 0.6742222309112549, -0.2380657196044922, 1.3196879625320435, 0.222035214304924, -0.21175703406333923, -0.37154391407966614, -0.5061044692993164, 0.1782766431570053, -0.054078906774520874, -0.709374189376831, -0.763739287853241, 0.06795814633369446, 0.1462693065404892, 1.2268155813217163, 0.7995489835739136, 0.05349401757121086, -0.4021609127521515, 0.24488793313503265, -1.246955394744873, 0.6997094750404358, -0.06316634267568588, 0.40994298458099365, -0.13018548488616943, 0.08744049072265625, 0.5598966479301453, -0.38819897174835205, -0.3197096586227417, -0.4845123291015625, -0.050750453025102615, -0.7187721729278564, -0.3673849105834961, 0.5612130165100098, 0.40575557947158813, -0.5583702325820923, 0.14485004544258118, -0.2517724335193634, -1.026612401008606, -0.2203582376241684, -0.323445200920105, 0.5640644431114197, -0.0176964420825243, 0.18097884953022003, -0.23087437450885773, 0.05795885622501373, 0.4557143449783325, 0.024403974413871765, -0.789240837097168, 0.3545033037662506, 1.2138381004333496, -0.023321066051721573, 0.23868216574192047, 0.06805148720741272, -0.1456839144229889, 0.5506346225738525, -0.3190900683403015, -0.012285325676202774, -1.152831792831421, 0.364388108253479, 0.5796635150909424, -0.5096603035926819, -0.17994096875190735, -0.22480535507202148, -1.2035688161849976, -0.2675149142742157, 0.29232993721961975, 0.01911890134215355, -0.4795496165752411, 0.6925341486930847, 0.6673333048820496, 0.6495894193649292, -0.1039033755660057, 0.14953964948654175, 0.4046679437160492, -0.9612753987312317, -0.09873717278242111, -0.10354381054639816, -0.7184716463088989, -1.5382949113845825, 0.46507009863853455, -0.09197907894849777, -0.3114982843399048, -0.28763625025749207, 0.6471149325370789, 0.4557638168334961, 0.7223592400550842, 0.42143598198890686, -0.36201488971710205, 0.130667045712471, 0.11362351477146149, 0.5816259980201721, -0.6055333614349365, -0.2908230721950531, -0.1811843365430832, 1.1077046394348145, -0.005879981443285942, -0.17394515872001648, -0.7619582414627075, 0.3887493908405304, 1.061401128768921, -0.7601384520530701, 0.4561167359352112, -0.9220157265663147, 0.12270399928092957, 0.29582861065864563, 0.00043083561467938125, -0.44957929849624634, -0.1553870141506195, 0.2480744570493698, -0.1766091138124466, 0.08806189149618149, -0.41964831948280334, -0.4440593719482422, 0.2826906740665436, 0.04642198979854584, -0.48112809658050537, -0.5152323246002197, -0.39954596757888794, 0.17265455424785614, 0.7630892395973206, -0.33379051089286804, -0.26019716262817383, 0.18484297394752502, -0.3501774072647095, 0.21106751263141632, 0.34655559062957764, 0.4347909390926361, 0.612999677658081, -0.321927547454834, -0.08097347617149353, -0.21846777200698853, -0.5271977782249451, 0.46077239513397217, 0.1389705389738083, -0.5646573305130005, -0.4895379841327667, 0.390082985162735, -0.49774837493896484, -0.4936636686325073, -0.0901881754398346, 0.702532172203064, -0.7765626907348633, 0.19807682931423187, -0.34009498357772827, 0.035531897097826004, 0.6063761115074158, -0.7810730338096619, 0.6303623914718628, 0.2563527822494507, -0.6219991445541382, -0.43638986349105835, -0.4399714171886444, 0.23558717966079712, -0.2843984365463257, 0.1582411378622055, 0.03788795694708824, 0.9386172890663147, -0.7959241271018982, 0.2898417115211487, 0.0875069722533226, -0.09207221865653992, -0.9287587404251099, 0.007386576849967241, 0.1931300163269043, -0.19025756418704987, 1.0636957883834839, 0.3801407814025879, -0.7931724190711975, -0.32600653171539307, 0.12917102873325348, 0.30794557929039, -0.15160396695137024, -0.42968660593032837, -0.17654749751091003, 0.30963262915611267, -0.16462792456150055, -0.319784939289093, 0.3161611557006836, 0.12434639036655426, -0.14048446714878082, -0.2522205710411072, 0.5050246715545654, 0.7552624344825745, -0.7720450162887573, 0.35940855741500854, 1.4484623670578003, 0.4423316419124603, -0.1857297420501709, -0.8358532786369324, -0.04447938874363899, -0.17877478897571564, -0.0297632347792387, 0.25316932797431946, 0.3538810908794403, 0.45362070202827454, 0.13034261763095856, 0.7764793038368225, -0.15622073411941528, -0.05589912831783295, 0.2689948081970215, 2.030975341796875, -0.7100887298583984, -0.36324840784072876, 0.0038976785726845264, -0.948419988155365, -0.6873422265052795, 0.17985211312770844, -0.9821503162384033, -0.17694386839866638, 0.24066464602947235, 0.6261475086212158, 0.2384757250547409, -0.295923113822937, 0.6580707430839539, -0.41793790459632874, 0.507043719291687, 0.5397845506668091, -0.17408381402492523, 0.7579219341278076, 0.03305705636739731, -0.6593851447105408, 0.5955750346183777, 0.08246559649705887, 0.4999050498008728, 0.03967658802866936, 0.12156079709529877, 0.7687253952026367, -0.4364861845970154, 0.28947383165359497, -0.2285771369934082, -0.018458737060427666, 1.047363519668579, 0.7359535694122314, -0.19709986448287964, -0.013514597900211811, 0.4996076226234436, 0.4133523404598236, -0.6760194301605225, 0.07522198557853699, 0.08966360986232758, -0.5445294380187988, 0.005775327328592539, -0.17103593051433563, -0.66166752576828, -0.48487699031829834, -0.21306665241718292, -0.7658945918083191, -1.0794440507888794, 0.624390721321106, -0.7601036429405212, 0.8826454877853394, -0.3962884247303009, -0.0974176824092865, -0.6932399868965149, -0.5275998115539551, 0.3411415219306946, -0.2905045747756958, 0.8279563784599304, 0.07329157739877701, -0.17713451385498047, -0.39092352986335754, -0.010706186294555664, 0.039027139544487, 0.07519659399986267, 0.5235543847084045, 0.46037134528160095, 0.3865623474121094, 0.36639776825904846, -0.1931893527507782, 0.3302183151245117, -1.0333702564239502, -0.7277988195419312, -0.1596696376800537, -0.1232394278049469, 0.12714163959026337, -0.05151129513978958, -0.7401832938194275, -0.5635403394699097, -0.13682474195957184, 0.14245444536209106, -0.92520672082901, -0.3555196225643158, -0.3758164942264557, -0.11763802170753479, -0.20195698738098145, 0.24574072659015656, 0.2815052568912506, 0.10549159348011017, 0.7874386310577393, -0.8165485858917236, -0.18102319538593292, 0.22109325230121613, 0.3970772922039032, 0.32033684849739075, 0.5087464451789856, -0.10259409993886948, -0.32382282614707947, -0.8481292724609375, -0.42245587706565857, 0.19467765092849731, -0.6818253397941589, 0.19120705127716064, 0.2019914984703064, 0.29623696208000183, -0.1248725950717926, -0.8059986233711243, 0.08256979286670685, -0.4299754798412323, -0.13498152792453766, 0.03288857266306877, 0.06254676729440689, -0.385723739862442, -0.008321788161993027, -0.4420391619205475, 0.19987313449382782, 0.2573862671852112, -0.7606651782989502, -0.2610955834388733, -0.6812190413475037, 0.5176957249641418, 0.13846749067306519, 0.17940258979797363, 0.9743738174438477, -0.31034114956855774, -0.7617422342300415, -0.17692658305168152, -0.11662840843200684, -0.15462028980255127, 0.6450469493865967, 0.4629506468772888, 0.15406595170497894, 0.29700741171836853, -0.4931160509586334, -1.1192911863327026, 0.06673336029052734, 0.565871000289917, -0.5544227957725525, -0.11690914630889893, -0.7977464199066162, 0.1365700364112854, -0.35603922605514526, 0.11882737278938293, -0.1697811782360077, -1.7711669206619263, 0.6338375806808472, 0.3976539373397827, 0.277731329202652, 1.0842108726501465, -0.14235208928585052, 0.2967057228088379, -0.693678617477417, -0.04167555272579193, -0.5733288526535034, 0.534102737903595, 0.3571215271949768, -0.36431020498275757, 0.36227649450302124, 0.14876161515712738, 0.08239911496639252, -0.22752925753593445, 0.19413608312606812, 0.11062072217464447, -0.3520277142524719, 1.0958094596862793, -0.4332529604434967, 0.6179042458534241, -0.027144111692905426, 1.0800284147262573, 0.037205770611763, -0.46340635418891907, -0.5180977582931519, -0.39213526248931885, -0.4332994818687439, 0.5076023936271667, -0.43322038650512695, 0.03978689759969711, -0.36020973324775696, -0.6805265545845032, -0.4237876236438751, -0.0058545866049826145, 0.19675874710083008, 0.7593552470207214, -0.36300310492515564, -0.057675812393426895, -0.6708604097366333, -0.6573649644851685, -0.49304744601249695, -0.00043790374184027314, -0.803679883480072, 0.11870542913675308, -0.614953339099884, 0.538764238357544, -0.447955459356308, 0.15276342630386353, -0.6259283423423767, -0.3934018611907959, -0.5073334574699402, -1.0472129583358765, 0.5975829362869263, 0.03804110735654831, -0.2802427411079407, -0.0983135998249054, 0.007652430795133114, 0.023888228461146355, 0.14579908549785614, 0.11891693621873856, -0.12324842810630798, 0.31153589487075806, 1.0379464626312256, -0.05412770062685013, 0.19258369505405426, -0.011995385400950909, 0.11726447939872742, -0.2917640209197998, -0.31930506229400635, 0.5709171295166016, 0.2020818144083023, -0.18832357227802277, 1.377471685409546, -0.011755796149373055, 0.008869548328220844, 0.1423567682504654, 0.15835519134998322, -0.7400205731391907, 0.8147534728050232, -0.2084101289510727, -0.12015371769666672, 1.5742664337158203, -0.03762694448232651, 0.010123034007847309, 0.3965684473514557, -0.49042999744415283, -0.46962907910346985, -0.5904949903488159, 0.4284079074859619, -0.03744992986321449, 0.4146314859390259, 0.2842157781124115, 0.1780642420053482, -0.23990027606487274, -0.08024927973747253, -0.5560314655303955, -0.3257051706314087, 0.46240532398223877, 0.004754718858748674, 0.16157037019729614, -0.2491963654756546, -0.2600805461406708, -0.2838571071624756, 0.11478818953037262, 0.007758221589028835, 0.423287570476532, -0.044032640755176544, 0.12330743670463562, 0.29958122968673706, -0.01144539937376976, -0.7131999135017395, -0.45419591665267944, 0.5037340521812439, -0.2631911039352417, -0.9004851579666138, 0.8913974761962891, 0.07073846459388733, -0.130349799990654, -0.4001626968383789, -0.04748683422803879, -0.3312225341796875, 0.683330237865448, -0.7219223976135254, 0.030118299648165703, 0.08501669019460678, 1.4728820323944092, 0.38419032096862793, -0.6411653161048889, 0.17823542654514313, -0.6223304271697998, 0.06332024931907654, -0.19170792400836945, -0.9697499871253967, 0.6373172402381897, 0.03902995586395264, -0.45683807134628296, 0.8661980032920837, -0.038881827145814896, -0.08071092516183853, -0.7814916968345642, -0.6227408051490784, 0.7758525013923645, 0.27105844020843506, -1.045339822769165, 0.29223719239234924, 0.06190800666809082, 0.3520240783691406, 0.24194195866584778, 0.5419667959213257, -0.37001508474349976, 0.3530212938785553, 0.5618240237236023, 0.16665875911712646, 0.3450442850589752, 0.21702724695205688, 0.6930834054946899, 0.8103561401367188, -0.20736950635910034, 1.0482792854309082, 0.34508392214775085, 0.8304405212402344, 0.21931606531143188, 0.38888317346572876, 0.3308025896549225, -1.2818608283996582, -0.668796181678772, 0.2504352331161499, 0.38650766015052795, -1.1232179403305054, 0.27328506112098694, -0.6075268983840942, -0.9656140804290771, -0.38922950625419617, -0.387301504611969, 0.3707583248615265, 0.7280728816986084, -0.5348954796791077, 0.17732590436935425, 0.03797987475991249, -0.5548109412193298, -0.4872690737247467, 0.47422128915786743, -0.5033109188079834, 0.3944273591041565, -0.6369038820266724, -0.031872544437646866, -0.933868408203125, 0.049893613904714584, 0.08653834462165833, 0.9406708478927612, -0.17944815754890442, -1.377362608909607, 0.14401769638061523, 0.33090677857398987, 0.5348523259162903, 0.0016217732336372137, -0.7179543375968933, -0.2502624988555908, -0.12703083455562592, -0.5667415261268616, 0.5219130516052246, 0.4490123987197876, 0.8031712770462036, -1.2069475650787354, -0.19999031722545624, -0.4777223765850067, 0.8359658718109131, 0.7096931338310242, -0.35834071040153503, -0.17606782913208008, -0.21708041429519653, 0.17771528661251068, -0.322123646736145, -0.11830104887485504, -0.17530158162117004, -0.24402692914009094, 0.1976291984319687, 0.1637173444032669, -0.32009315490722656, 0.3931230902671814, 1.1240407228469849, -0.20121793448925018, -0.278679221868515, 0.33611002564430237, -0.2079591155052185, -0.7340113520622253, 0.23727554082870483, -0.014482802711427212, -0.02615089900791645, 1.1272389888763428, 0.802997887134552, 0.19222861528396606, -0.08070114254951477, -0.11336459219455719, -0.4080020487308502, -1.0637160539627075, 0.014166921377182007, 0.7620454430580139, 0.2685929834842682, -0.4223489761352539, -0.34971752762794495, -0.7365598678588867, -0.46029403805732727, -0.6882194876670837, 0.24112555384635925, -0.18348219990730286, -0.15642720460891724, -0.2669612467288971, -0.14875100553035736, 0.29962021112442017, -0.2863006591796875, 1.006477952003479, 0.4206247627735138, -0.07575853914022446, 0.40808603167533875, -0.26782095432281494, -0.425143301486969, -1.24434232711792, -0.22491928935050964, 0.8265243768692017, -0.29870685935020447, 0.1516919881105423, 0.3991876244544983, -0.6243484616279602, -0.5346603393554688, 0.22176387906074524, 0.0253023449331522, -0.02140757441520691, 0.8286951780319214, -0.8430246710777283, -0.6873042583465576, 0.04907844960689545, -0.29225873947143555, 0.5317018032073975, 0.31391939520835876, 0.0939684808254242, 0.3479629158973694, 0.28192317485809326, -0.5958727598190308, 0.3307173550128937, -0.41457632184028625, -0.1874544620513916, -0.3847920596599579, 0.563389241695404, 0.26037612557411194, 0.2143632024526596, 0.25747981667518616, -0.08821766823530197, -0.9018040895462036, 0.9197968244552612, -0.7223526835441589, -0.16374632716178894, -0.6599850058555603, -0.12280457466840744, 0.5728785395622253, 0.0883612111210823, -0.07570109516382217, 0.07894933223724365, -0.24580666422843933, -0.16590172052383423, 0.13254782557487488, 0.15747739374637604, -0.04197090119123459, -0.1701854169368744, -0.2505509853363037, 0.47682952880859375, 0.6436951756477356, 0.2631252706050873, -0.0867241844534874, 0.059051282703876495, 0.43341219425201416, -0.04290062189102173, -0.5456817150115967, -0.33013758063316345, -0.8069692850112915, -0.031679973006248474, 0.08906625956296921, 0.298267662525177, 0.4112233519554138, 0.42827093601226807, 0.9040240049362183, -0.05220933258533478, 0.6177974343299866, -0.08278384804725647, -0.7870526909828186, -0.480895459651947, -0.09802627563476562, 0.2196129560470581, 0.7999340295791626, -0.645397961139679, -0.6477178335189819, -1.007396936416626, 0.201598659157753, 0.15419666469097137, -0.09107154607772827, -0.3249829113483429, -0.23173178732395172, -0.014601945877075195, 0.24734824895858765, -0.15779414772987366, 0.6124034523963928]\n",
      "768\n"
     ]
    }
   ],
   "source": [
    "test_embed=embeddings.embed_query(\"What is the capital of France?\")\n",
    "print(test_embed)\n",
    "print(len(test_embed))"
   ]
  },
  {
   "cell_type": "code",
   "execution_count": 7,
   "id": "6fc45610",
   "metadata": {},
   "outputs": [
    {
     "data": {
      "text/plain": [
       "{'dimension': 768,\n",
       " 'index_fullness': 0.0,\n",
       " 'metric': 'dotproduct',\n",
       " 'namespaces': {'': {'vector_count': 37282}},\n",
       " 'total_vector_count': 37282,\n",
       " 'vector_type': 'dense'}"
      ]
     },
     "execution_count": 7,
     "metadata": {},
     "output_type": "execute_result"
    }
   ],
   "source": [
    "from pinecone import ServerlessSpec\n",
    "from pinecone import Pinecone\n",
    "index_name=\"medical-rag-bot\"\n",
    "\n",
    "\n",
    "pc=Pinecone(api_key=PINECONE_API_KEY)\n",
    "from pinecone import ServerlessSpec\n",
    "if not pc.has_index(name=index_name):\n",
    "    pc.create_index(\n",
    "        name=index_name,\n",
    "        dimension=384,\n",
    "        metric='dotproduct',\n",
    "        spec=ServerlessSpec(\n",
    "            cloud='aws',\n",
    "            region='us-east-1'\n",
    "        )\n",
    "    )\n",
    "index=pc.Index(name=index_name)\n",
    "index.describe_index_stats()"
   ]
  },
  {
   "cell_type": "code",
   "execution_count": 22,
   "id": "7f704c9a",
   "metadata": {},
   "outputs": [],
   "source": [
    "import os\n",
    "os.environ[\"PINECONE_API_KEY\"] = PINECONE_API_KEY"
   ]
  },
  {
   "cell_type": "code",
   "execution_count": 23,
   "id": "2a705733",
   "metadata": {},
   "outputs": [],
   "source": [
    "# Embed each chunk and upsert the embeddings into your Pinecone index.\n",
    "from langchain_pinecone import PineconeVectorStore\n",
    "\n",
    "docsearch = PineconeVectorStore.from_documents(\n",
    "    documents=text_chunks,\n",
    "    index_name=index_name,\n",
    "    embedding=embeddings, \n",
    ")"
   ]
  },
  {
   "cell_type": "code",
   "execution_count": 14,
   "id": "eda43bbb",
   "metadata": {},
   "outputs": [],
   "source": [
    "#initializing docsearch with the existing index\n",
    "from langchain_pinecone import PineconeVectorStore\n",
    "docsearch=PineconeVectorStore.from_existing_index(\n",
    "    index_name=index_name,\n",
    "    embedding=embeddings\n",
    ")"
   ]
  },
  {
   "cell_type": "code",
   "execution_count": 37,
   "id": "1a9bd720",
   "metadata": {},
   "outputs": [],
   "source": [
    "## initializing retriver object\n",
    "retriver=docsearch.as_retriever(search_type=\"similarity\",search_kwargs={\"k\": 60})"
   ]
  },
  {
   "cell_type": "code",
   "execution_count": 48,
   "id": "9c51bf1f",
   "metadata": {},
   "outputs": [
    {
     "data": {
      "text/plain": [
       "[Document(id='chunk-6294', metadata={'page': 803.0, 'source': 'Data/orthopedic-physical-assessment-7e-7nbsped-0323522998-9780323522991_compress.pdf'}, page_content='Chapter 9 Lumbar Spine\\n 637\\n“Mechanical” Low Back Pain3\\n•\\t \\tPain\\tis\\tusually\\tcyclic\\n•\\t \\tLow\\tback\\tpain\\tis\\toften\\treferred\\tto\\tthe\\tbuttocks\\tand\\tthighs\\n•\\t \\tMorning\\tstiffness\\tor\\tpain\\tis\\tcommon\\n•\\t \\tStart\\tpain\\t(i.e.,\\twhen\\tstarting\\tmovement)\\tis\\tcommon\\n•\\t \\tThere\\tis\\tpain\\ton\\tforward\\tflexion\\tand\\toften\\talso\\ton\\treturning\\tto\\tthe\\t\\nerect position\\n•\\t \\tPain\\tis\\toften\\tproduced\\tor\\taggravated\\tby\\textension,\\tside\\tflexion,\\t\\nrotation, standing, walking, sitting, and exercise in general'),\n",
       " Document(id='chunk-169', metadata={'page': 18.0, 'source': 'Data/orthopedic-physical-assessment-7e-7nbsped-0323522998-9780323522991_compress.pdf'}, page_content='circle any number from 0 to 6 to say how much physical activities such as bending, lifting, walking, or\\ndriving affect or would affect your back pain.\\nThe following statements are about how your normal work affects or would affect your back pain\\nCompletely\\ndisagree\\nCompletely\\nagree\\nUnsure\\nCompletely\\ndisagree\\nScoring:\\nCompletely\\nagree\\nUnsure\\n1. My pain was caused by physical activity ............................................. 6\\n6\\n6\\n6\\n6\\n6\\n6\\n6\\n6\\n6\\n6\\n6\\n6\\n6\\n6\\n6\\n5\\n5\\n5\\n5\\n5\\n5\\n5\\n5\\n5\\n5\\n5\\n5\\n5\\n5\\n5\\n5\\n4\\n4'),\n",
       " Document(id='chunk-6264', metadata={'page': 799.0, 'source': 'Data/orthopedic-physical-assessment-7e-7nbsped-0323522998-9780323522991_compress.pdf'}, page_content='where in the spine the problem is or, for that matter, \\nwhether the problem is truly in the lumbar spine or \\ncoming from problems in the pelvic joints, primarily the \\nsacroiliac joints, the hips, or visceral disorders ( Table \\n9.3). Waddell pointed out that in only about 15% of \\ncases can a definitive diagnosis as to the pathology of \\nback pain be made. 3 Hall broke low back pain into four \\ncategories—two of which are back pain dominant  and'),\n",
       " Document(id='chunk-6280', metadata={'page': 801.0, 'source': 'Data/orthopedic-physical-assessment-7e-7nbsped-0323522998-9780323522991_compress.pdf'}, page_content='Chapter 9 Lumbar Spine\\n 635\\nTABLE 9.4\\nPatterns of Back Pain\\nPattern Where Pain Is Worst\\nAggravating \\nMovement\\nRelieving \\nMovement Onset Duration Probable Cause\\nBack-dominant \\npain/ \\nmechanical \\ncause\\n1 Back/buttocks \\n(>90%\\tback\\t\\npain)\\nMyotomes seldom \\naffected\\nDermatomes not \\naffected\\nFlexion\\nStiff in morning\\nExtension Hours to \\ndays\\nDays to \\nmonths \\n(sudden \\nor slow)\\nDisc \\ninvolvement \\n(minor \\nherniation, \\nspondylosis), \\nsprain, strain\\n2 Back/buttocks \\nMyotomes \\nseldom affected\\nDermatomes not'),\n",
       " Document(id='chunk-25713', metadata={'page': 436.0, 'source': 'Data/exercicios-terapeuticos-kisner.pdf'}, page_content='ularly because patients’ complaints of back or neck pain\\noften do not relate to specific pathologies. Efforts are\\nbeing made to determine the most effective way to cate-\\ngorize patients with symptoms affecting spine and trunk\\nfunction in order to be more accurate with outcome\\nresearch.22,23,27,64,65,85,92 In addition, results from research\\nstudies are beginning to provide the criteria for predicting\\noutcomes in subgroups of patients with back pain so thera-'),\n",
       " Document(id='chunk-16092', metadata={'page': 436.0, 'source': 'Data/theraputicexcerices.pdf'}, page_content='ularly because patients’ complaints of back or neck pain\\noften do not relate to specific pathologies. Efforts are\\nbeing made to determine the most effective way to cate-\\ngorize patients with symptoms affecting spine and trunk\\nfunction in order to be more accurate with outcome\\nresearch.22,23,27,64,65,85,92 In addition, results from research\\nstudies are beginning to provide the criteria for predicting\\noutcomes in subgroups of patients with back pain so thera-'),\n",
       " Document(id='chunk-6347', metadata={'page': 809.0, 'source': 'Data/orthopedic-physical-assessment-7e-7nbsped-0323522998-9780323522991_compress.pdf'}, page_content='(home)\\n(work)\\nACC Claim Number\\nToday’s Date //\\n//\\n(Linton & Halldén, 1996)\\nAcute Low Back Pain Screening Questionnaire\\neTool 9.3 Acute Low Back Pain Screening Questionnaire. (From Linton SJ, Halldén K: Can we screen for problematic back pain? A screening ques -\\ntionnaire for predicting outcome in acute and subacute back pain, Clin J Pain 14[3]:209–215, 1998.)\\nContinued\\nChapter 9 Lumbar Spine 640.e3'),\n",
       " Document(id='chunk-6283', metadata={'page': 801.0, 'source': 'Data/orthopedic-physical-assessment-7e-7nbsped-0323522998-9780323522991_compress.pdf'}, page_content='Note whether the patient indicates a specific \\njoint or whether the pain is more general. The \\nmore specific the pain, the easier it is to local -\\nize the area of pathology. Unilateral pain with \\nno referral below the knee may be caused by in -\\njury to muscles (strain) or ligaments (sprain), the \\nfacet joint, or, in some cases, the sacroiliac joints. \\nThis is called mechanical low back pain  (in old -\\ner books, it is called “lumbago”). With each of'),\n",
       " Document(id='chunk-2332', metadata={'page': 273.0, 'source': 'Data/orthopedic-physical-assessment-7e-7nbsped-0323522998-9780323522991_compress.pdf'}, page_content='ONE BOX which applies to you.  We realize you may consider that two of the statements in any one\\nsection relate to you, but PLEASE JUST MARK THE BOX WHICH MOST CLOSELY DESCRIBES YOUR\\nPROBLEM.         \\nPointsStatusParameter\\nNeck pain intensity I have no pain at the moment 0\\nMy pain is mild at the moment 1\\nMy pain is moderate at the moment 2\\nMy pain is severe at the moment 3\\nMy pain is the worst imaginable at the moment 4\\nNeck pain and sleeping My sleep is never disturbed by pain0'),\n",
       " Document(id='chunk-6050', metadata={'page': 768.0, 'source': 'Data/orthopedic-physical-assessment-7e-7nbsped-0323522998-9780323522991_compress.pdf'}, page_content='None Slightly Mildly Moderately Severely\\n11. Which of the following best describes your pain medication use for back pain?\\nNone Non-narcotics weekly or\\nless (ex : aspirin, Tylenol,\\nibuprofen)\\nNon-narcotics\\ndaily\\nNarcotics weekly or less\\n(ex : Tylenol III, Lorcet,\\nPercocet)\\nNarcotics daily\\n5. What is your current level of activity?\\nBedridden Primarily no activity Light labor and\\nlight sports\\nModerate labor and\\nmoderate sports\\nFull activities\\nwithout restriction'),\n",
       " Document(id='chunk-174', metadata={'page': 18.0, 'source': 'Data/orthopedic-physical-assessment-7e-7nbsped-0323522998-9780323522991_compress.pdf'}, page_content='10. My work makes or would make my pain worse ..................................\\n4. I should not do physical activities which (might) make my pain worse\\n5. I cannot do physical activities which (might) make my pain worse .....\\n3. Physical activity might harm my back ....................................................\\n2. Physical activity makes my pain worse ................................................'),\n",
       " Document(id='chunk-6046', metadata={'page': 768.0, 'source': 'Data/orthopedic-physical-assessment-7e-7nbsped-0323522998-9780323522991_compress.pdf'}, page_content='606.e3Chapter 8 Thoracic (Dorsal) Spine\\nSRS-22r Patient Questionnaire\\n:egA/:htriBfoetaD//:etaDs’yadoT /\\nWe are carefully evaluating the condition of your back and it is IMPORTANT THAT YOU ANSWER EACH OF THE\\nQUESTIONS YOURSELF. Please CIRCLE THE ONE BEST ANSWER TO EACH QUESTION.\\n1. Which one of the following best describes the amount of pain you have experienced during the past\\n    6 months?\\nNone Mild Moderate Moderate to severe Severe'),\n",
       " Document(id='chunk-6482', metadata={'page': 828.0, 'source': 'Data/orthopedic-physical-assessment-7e-7nbsped-0323522998-9780323522991_compress.pdf'}, page_content='Demoulin \\net al.138\\nHealthy males: 198 seconds\\nPrior low back pain males: 176 seconds\\nCurrent low back pain males: 163 seconds\\nHealthy females: 197 seconds\\nPrior low back pain females: 210 seconds\\nCurrent low back pain females: 177 seconds\\nMcGill \\net al.139\\nMales: 164 ± 51 seconds\\nFemales: 189 ± 60 seconds\\nSimmonds \\net al.140\\nHealthy pain-free subjects: 77.76 ± 36.63 \\n(trial 1)\\n72.73 ± 29.79 (trial 2)\\nLow back pain subjects: 39.55 ± 36.31 (trial 1)\\n36.64 ± 33.32 (trial 2)'),\n",
       " Document(id='chunk-6273', metadata={'page': 800.0, 'source': 'Data/orthopedic-physical-assessment-7e-7nbsped-0323522998-9780323522991_compress.pdf'}, page_content='keep in mind that stress on the lower back tends to \\nbe 15% to 20% higher in men than in women be -\\ncause men are taller and their weight is distributed \\nhigher in the body.\\n 5.  How long has the problem bothered the patient?  Acute \\nback pain lasts 3 to 4 weeks. Subacute back pain \\nlasts up to 12 weeks. Chronic pain is any pain last -\\ning longer than 3 months. Waddell has outlined pre-\\ndictors (yellow flags) of chronicity with back pain \\npatients.3,43'),\n",
       " Document(id='chunk-6274', metadata={'page': 800.0, 'source': 'Data/orthopedic-physical-assessment-7e-7nbsped-0323522998-9780323522991_compress.pdf'}, page_content='patients.3,43\\n  Predictors of Chronicity Within the First 6 to 8 \\nWeeks (Yellow Flags)3\\n\\t•\\t \\tNerve\\troot\\tpain\\tor\\tspecific\\tspinal\\tpathology\\n\\t•\\t \\tReported\\tseverity\\tof\\tpain\\tat\\tthe\\tacute\\tstage\\n\\t•\\t \\tBeliefs\\tabout\\tpain\\tbeing\\twork\\trelated\\n\\t•\\t \\tPsychological\\tdistress\\n\\t•\\t \\tPsychosocial\\taspects\\tof\\twork\\n\\t•\\t \\tCompensation\\n\\t•\\t \\tTime\\toff\\twork\\n\\t•\\t \\tThe\\tlonger\\tsomeone\\tis\\toff\\twork\\twith\\tback\\tpain,\\tthe\\tlower\\tthe\\t\\nprobability\\tthat\\the\\tor\\tshe\\twill\\treturn\\tto\\twork\\nTABLE 9.3\\nDifferential Diagnosis of Low Back Pain'),\n",
       " Document(id='chunk-6349', metadata={'page': 810.0, 'source': 'Data/orthopedic-physical-assessment-7e-7nbsped-0323522998-9780323522991_compress.pdf'}, page_content='14.  In your view, how large is the risk that your current pain may become persistent? Circle one.\\n15.  In your examination, what are the chances that you will be working in 6 months? Circle one.\\n17.  Physical activity makes my pain worse.\\n18.  An increase in pain is an indication that I should stop what I am doing until the pain decreases. \\n19.  I should not do my normal work with my present pain.\\n20.  I  can do light work for an hour.\\n21.  I can walk for an hour.'),\n",
       " Document(id='chunk-6612', metadata={'page': 851.0, 'source': 'Data/orthopedic-physical-assessment-7e-7nbsped-0323522998-9780323522991_compress.pdf'}, page_content='Chapter 9 Lumbar Spine\\n674\\nthe patient complains of pain or tightness in the back or \\nback of the leg. 192 If the pain is primarily back pain, it is \\nmore likely a disc herniation from pressure on the ante -\\nrior theca of the spinal cord, 229 or the pathology causing \\nthe pressure is more central. “Back pain only” patients \\nwho have a disc prolapse have smaller, more central pro -\\nlapses.229 If pain is primarily in the leg, it is more likely'),\n",
       " Document(id='chunk-6054', metadata={'page': 769.0, 'source': 'Data/orthopedic-physical-assessment-7e-7nbsped-0323522998-9780323522991_compress.pdf'}, page_content='None of the time Rarely Sometimes Most of the time All of the time\\n21. Are you satisfied with the results of your back management?\\nVery satisfied Satisfied Neither satisfied nor unsatisfied Unsatisfied Very unsatisfied\\n22. Would you have the same management again if you had the same condition?\\nThank you for completing this questionnaire. Please comment if you wish.\\n//:etaD:erutangiss’tneitaP\\n//:etaD:erutangiss’tneitaP\\nDefinitely yes Probably yes Not sure Probably notD efinitely not'),\n",
       " Document(id='chunk-3500', metadata={'page': 417.0, 'source': 'Data/orthopedic-physical-assessment-7e-7nbsped-0323522998-9780323522991_compress.pdf'}, page_content='321.e4\\nChapter 5 Shoulder\\nShoulder Pain and Disability Index (SPADI)\\nPlease place a mark on the line that best represents your experience during the last week attributable to your shoulder\\nproblem.\\nPain scale\\nHow severe is your pain?\\nCircle the number that best describes your pain where: 0 = no pain and 10 = the worst pain imaginable.\\n10?tsrow sti tA2 345678 91 0\\n012345678 91 0\\n012345678 91 0\\n012345678 91 0\\n012345678 91 0\\n012345678 91 0\\n012345678 91 0\\n012345678 91 0\\n012345678 91 0\\n012345678 91 0'),\n",
       " Document(id='chunk-6344', metadata={'page': 809.0, 'source': 'Data/orthopedic-physical-assessment-7e-7nbsped-0323522998-9780323522991_compress.pdf'}, page_content='4.  Where do you have pain? Place a\\n5.  How many days of work have you missed because of pain during the past 18 months? Tick (     ) one.\\n6.  How long have you had your current pain problem? Tick (     ) one.\\n7.  Is your work heavy or monotonous? Circle the best alternative.\\n8.  How would you rate the pain that you have had during the past week? Circle one.\\n9.  In the past three months, on average, how bad was your pain? Circle one.'),\n",
       " Document(id='chunk-6524', metadata={'page': 835.0, 'source': 'Data/orthopedic-physical-assessment-7e-7nbsped-0323522998-9780323522991_compress.pdf'}, page_content='related to pain and the patient’s perception of the pain \\nrelative to the injury 81–83,163 (see item 23 in the section \\nlabeled “Patient History,” earlier). Other numerical back \\npain scales include the Functional Rating Index ,164,165 \\nthe Dallas Pain Questionnaire,166 the Million Index,167 \\nthe Japanese Orthopedic Association Scale ,168 the \\nIowa Low Back Rating Scale ,169 the Bournemouth \\nQuestionnaire,170,171 the Scoliosis Research Society'),\n",
       " Document(id='chunk-6859', metadata={'page': 894.0, 'source': 'Data/orthopedic-physical-assessment-7e-7nbsped-0323522998-9780323522991_compress.pdf'}, page_content='References\\n 1.  Deyo RA, Phillips WR. Low back pain: a primary care \\nchallenge. Spine. 1996;21:2826–2832.\\n 2.  Frymoyer J W, Akeson W , Brandt K , et\\xa0al. Clinical \\nperspectives. In: Frymoyer J W, Gordon S L, eds. \\nNew Perspectives in Low Back Pain . Park Ridge, \\nIL: American Academy of Orthopedic Surgeons; \\n1989.\\n 3.  Waddell G . The Back Pain Revolution . New York: \\nChurchill Livingstone; 1998.\\n 4.  Beattie P. Current understanding of lumbar interver -'),\n",
       " Document(id='chunk-10061', metadata={'page': 1303.0, 'source': 'Data/orthopedic-physical-assessment-7e-7nbsped-0323522998-9780323522991_compress.pdf'}, page_content='“Severe pain,” circle the number 4.  \\n • If, for some items, the question does not apply, circle the number 5.\\n • Please provide an answer for every item.\\n1.  DURING THE PAST WEEK, HOW SEVERE WAS YOUR FOOT PAIN:\\n No Mild Moderate Severe                           \\n P ain pain pain pain          \\n                                                                                                                           \\n1.  Before you get up in the morning? . . . . . . . . . . . .  1 2 3 4'),\n",
       " Document(id='chunk-147', metadata={'page': 16.0, 'source': 'Data/orthopedic-physical-assessment-7e-7nbsped-0323522998-9780323522991_compress.pdf'}, page_content='a) NO - My pain doesn’t really feel like this ......................................\\nYES - I get these sensations quite a lot .......................................b)\\n(0)\\n(5)\\na) NO, normal sensation in both areas .....................................\\nYES, allodynia in painful area only .......................................b)\\n(0)\\n(5)\\na) NO, equal sensation in both areas ........................................\\nYES, altered PPT in painful area ...........................................b)\\n(0)'),\n",
       " Document(id='chunk-6532', metadata={'page': 837.0, 'source': 'Data/orthopedic-physical-assessment-7e-7nbsped-0323522998-9780323522991_compress.pdf'}, page_content='665.e2\\nThis questionnaire is about the way your back pain is affecting your daily life. People with back problems may find\\nit difficult to perform some of their daily activities. We would like to know if you find it difficult to perform any of the\\nactivities listed below, because of your back. For each activity there is a scale of 0 to 5. Please choose one\\nresponse option for each activity (do not skip any activities) and circle the corresponding number.'),\n",
       " Document(id='chunk-3536', metadata={'page': 426.0, 'source': 'Data/orthopedic-physical-assessment-7e-7nbsped-0323522998-9780323522991_compress.pdf'}, page_content='Chapter 5 Shoulder\\n321.e13\\nPain as bad as it can be\\nASES Shoulder Score\\nASES - Orthopaedic Scores\\n etaD egA emaN\\n1) Usual Work 2) Usual Sport/Leisure activity? \\n3) Do you have shoulder pain at night? 4) Do you take pain killers such as paracetamol (acetaminophen), diclofenac,\\nYes \\nNo\\n5) Do you take strong pain killers such as codeine, tramadol, or morphine? 6) How many pills do you take on an average day? \\n7) Intensity of pain?'),\n",
       " Document(id='chunk-2319', metadata={'page': 271.0, 'source': 'Data/orthopedic-physical-assessment-7e-7nbsped-0323522998-9780323522991_compress.pdf'}, page_content='Chapter 3 Cervical Spine\\n198.e4\\nThe following scales have been designed to find out about your\\nneck pain and how it is affecting you. Please answer ALL the scales\\nby circling ONE number on EACH scale that best describes how\\nyou feel:\\n1. Over the past week, on average how would you rate your neck\\n    pain?\\nNo pain Worst pain possible\\n0123456789 10\\n3. Over the past week, how much has your neck pain interfered\\n    with your ability to take part in recreational, social, and family\\n    activities?'),\n",
       " Document(id='chunk-6047', metadata={'page': 768.0, 'source': 'Data/orthopedic-physical-assessment-7e-7nbsped-0323522998-9780323522991_compress.pdf'}, page_content='None Mild Moderate Moderate to severe Severe\\n2. Which one of the following best describes the amount of pain you have experienced over the last\\n    month?\\nNone Mild Moderate Moderate to severe Severe\\n4. If you had to spend the rest of your life with your back shape as it is right now, how would you feel\\n    about it?\\nVery happy Somewhat happy Neither happy nor unhappy Somewhat unhappyV ery unhappy\\n6. How do you look in clothes?\\nVery Good Good Fair Bad Very bad'),\n",
       " Document(id='chunk-6352', metadata={'page': 810.0, 'source': 'Data/orthopedic-physical-assessment-7e-7nbsped-0323522998-9780323522991_compress.pdf'}, page_content='0123456789 10\\n0123456789 10\\n0123456789 10\\nCompletely\\ndisagree\\nCompletely\\nagree\\nCompletely\\ndisagree\\nCan’t do it because\\n of pain problem\\nCan do it without pain\\nbeing a problem\\nCan’t do it because\\n of pain problem\\nCan do it without pain\\nbeing a problem\\n0123456789 10\\nCan’t do it because\\n of pain problem\\nCan do it without pain\\nbeing a problem\\n0123456789 10\\nCan’t do it because\\n of pain problem\\nCan do it without pain\\nbeing a problem\\n0123456789 10\\nCan’t do it because\\n of pain problem'),\n",
       " Document(id='chunk-2308', metadata={'page': 268.0, 'source': 'Data/orthopedic-physical-assessment-7e-7nbsped-0323522998-9780323522991_compress.pdf'}, page_content='question blank.\\nNAME:…………………………………………………                                                   DATE:…………/…………/………\\n1. How much pain do you have today?\\nNo pain Worst pain\\nimaginable\\n0            1            2            3            4            5            6            7            8            9            10\\n2. Do your whiplash symptoms interfere with your personal care (washing, dressing, etc.)?\\nNot at all'),\n",
       " Document(id='chunk-11823', metadata={'page': 1516.0, 'source': 'Data/orthopedic-physical-assessment-7e-7nbsped-0323522998-9780323522991_compress.pdf'}, page_content='MONTH                                         YEAR\\nWHAT IS THE INTENSITY OF YOUR PAIN?\\nVisual Analogue Scale (VAS): Intensity of Pain\\nNo pain As bad pain  \\nas it could  \\npossibly get\\nPain: constant, periodic, episodic, occasional\\nPATIENT- SPECIFIC FUNCTIONAL SCALE 187\\nBaseline Assessment'),\n",
       " Document(id='chunk-127', metadata={'page': 14.0, 'source': 'Data/orthopedic-physical-assessment-7e-7nbsped-0323522998-9780323522991_compress.pdf'}, page_content='Moderate pain\\nLittle pain\\nNo pain at all\\nFig. 1.3\\t“Thermometer”\\tpain\\trating\\tscale.\\t(Redrawn\\tfrom\\tBrodie\\tDJ,\\t\\nBurnett\\tJV,\\tWalker\\tJM,\\tet\\tal:\\tEvaluation\\tof\\tlow\\tback\\tpain\\tby\\tpatient\\t\\nquestionnaires and therapist assessment, J Orthop Sports Phys Ther  \\n11[11]:528, 1990.)\\nThe Roles- Maudsley Satisfaction Scorea\\nGrade\\t1 Excellent—no\\tsymptoms,\\tno\\tpain,\\tfull\\tmovement\\tand\\t\\nactivity\\t(no\\tsymptoms\\tfollowing\\ttreatment)\\nGrade\\t2 Good—occasional\\tdiscomfort,\\tfull\\tmovement\\tand'),\n",
       " Document(id='chunk-6310', metadata={'page': 804.0, 'source': 'Data/orthopedic-physical-assessment-7e-7nbsped-0323522998-9780323522991_compress.pdf'}, page_content='which in turn is relieved by activity.\\n 13.  Which movements hurt? Which movements are stiff?  \\nHow does the patient move when walking? When \\nsitting? When getting up from sitting? Table 9.7  \\ndemonstrates some of the causes of mechanical low \\nback pain and their symptoms. The examiner must \\nhelp the patient differentiate between true pain and \\ndiscomfort that is caused by stretching. Postural, \\nCentralization\\nPeripheralization'),\n",
       " Document(id='chunk-6300', metadata={'page': 803.0, 'source': 'Data/orthopedic-physical-assessment-7e-7nbsped-0323522998-9780323522991_compress.pdf'}, page_content='8.  Is the pain deep? Superficial? Shooting? Burning? \\nAching? Questions related to the depth and type of \\npain often help to locate the structure injured and \\nthe source of pain.\\n 9.  Is the pain improving? Worsening? Staying the same?  \\nThe answers to these questions indicate whether the \\ncondition is settling down and improving, or they \\nmay indicate that the condition is in the inflamma -\\ntion phase (acute) or in the healing phase. Does the'),\n",
       " Document(id='chunk-25994', metadata={'page': 463.0, 'source': 'Data/exercicios-terapeuticos-kisner.pdf'}, page_content='● Critical Thinking and Discussion\\n1. What are the functional differences between the way\\nthe cervical spine and lumbar spine are used in daily\\nactivities?\\n2. Explain how different individuals who sustain back\\ninjuries can experience different symptoms of radi-\\nating pain down the leg, numbness and tingling into\\nthe foot, deep aching down the leg, or no leg sym-\\nptoms at all. What does each of these symptoms\\nmean?\\n3. Explain why some people experience diminished symp-'),\n",
       " Document(id='chunk-16373', metadata={'page': 463.0, 'source': 'Data/theraputicexcerices.pdf'}, page_content='● Critical Thinking and Discussion\\n1. What are the functional differences between the way\\nthe cervical spine and lumbar spine are used in daily\\nactivities?\\n2. Explain how different individuals who sustain back\\ninjuries can experience different symptoms of radi-\\nating pain down the leg, numbness and tingling into\\nthe foot, deep aching down the leg, or no leg sym-\\nptoms at all. What does each of these symptoms\\nmean?\\n3. Explain why some people experience diminished symp-'),\n",
       " Document(id='chunk-133', metadata={'page': 15.0, 'source': 'Data/orthopedic-physical-assessment-7e-7nbsped-0323522998-9780323522991_compress.pdf'}, page_content='somatic pain may be localized, but deep somatic pain \\nis more diffuse and may be referred. 42 On examina-\\ntion, somatic pain may be reproduced, but visceral \\npain is not reproduced by movement.42\\n 16.  What types of sensations does the patient feel, and where \\nare these abnormal sensations?  If the problem is in \\nbone, there usually is very little radiation of pain. If \\npressure is applied to a nerve root, radicular pain (ra-\\ndiating pain) results from pressure on the dura mater,'),\n",
       " Document(id='chunk-6872', metadata={'page': 895.0, 'source': 'Data/orthopedic-physical-assessment-7e-7nbsped-0323522998-9780323522991_compress.pdf'}, page_content='SL, eds. New Perspectives in Low Back Pain . Park \\nRidge, IL: American Academy of Orthopedic Surgeons; \\n1989.\\n 37.  White A A. The 1980 symposium and beyond. In: \\nFrymoyer J W, Gordon S L, eds. New Perspectives in \\nLow Back Pain. Park Ridge, IL: American Academy of \\nOrthopedic Surgeons; 1989.\\n 38.  Luoma K, Riihimaki H, Luukkonen R, et\\xa0al. Low back \\npain in relation to lumbar disc degeneration. Spine. \\n2000;25:487–492.\\n 39.  Videman T, Battié MC. The influence of occupational'),\n",
       " Document(id='chunk-6515', metadata={'page': 833.0, 'source': 'Data/orthopedic-physical-assessment-7e-7nbsped-0323522998-9780323522991_compress.pdf'}, page_content='perspective.147–150 Examples are the the Oswestry \\nDisability Index151–153 ( eTool 9.4); the Quebec Back \\nPain Disability Scale 154,155 ( eTool 9.5 ); the Hendler \\n10- Minute Screening Test for Chronic Back Pain \\nPatients ( eTool 9.6 )149,152,156; and the Back Pain \\nAttitudes Questionnaire (Back-  PAQ),70,75,157 which \\nwas developed as a 34-  item questionnaire and also as \\nanother with only 10 items. The 10-  item questionnaire \\nwas felt to be suitable as a screening tool and an outcome'),\n",
       " Document(id='chunk-33033', metadata={'page': 187.0, 'source': 'Data/Medical_book.pdf'}, page_content='their dual activity, may be beneficial in both regards.\\nDescription\\nPain has been classified as “productive” pain and\\n“non-productive” pain. While this distinction has no\\nphysiologic meaning, it may serve as a guide to treat-\\nment. “Productive” pain has been described as a warning\\nof injury, and so may be both an indication of need for\\ntreatment and a guide to diagnosis. “Non-productive”\\npain by definition serves no purpose either as a warning\\nor diagnostic tool.'),\n",
       " Document(id='chunk-6888', metadata={'page': 895.0, 'source': 'Data/orthopedic-physical-assessment-7e-7nbsped-0323522998-9780323522991_compress.pdf'}, page_content='fear is more disabling than pain itself: evidence on \\nthe role of pain related fear in chronic back pain dis-\\nability. Pain. 1999;80:329–359.\\n 82.  Vlaeyen JW, Crombez G. Fear of movement/(re)injury, \\navoidance and pain disability in chronic low back \\npain patients. Man Ther. 1999;4:187–195.\\n 83.  Walsh DA, Radcliffe J C. Pain beliefs and perceived \\nphysical disability of patients with chronic low back \\npain. Pain. 2002;97:23–31.\\n 84.  New Zealand National Advisory Committee'),\n",
       " Document(id='chunk-6927', metadata={'page': 897.0, 'source': 'Data/orthopedic-physical-assessment-7e-7nbsped-0323522998-9780323522991_compress.pdf'}, page_content='in international guidelines for low back pain. Spine. \\n2007;32:921–926.\\n 190.  Paatelma M, Karvonen E , Heiskanen J. Clinical per-\\nspective: how do clinical test results differentiate \\nchronic and subacute low back pain patients from \\n“non- patients”? J Man Manip Ther. 2009;17:11–19.\\n 191.  Shacklock M . Neurodynamics. Physiotherapy. \\n1995;81:9–16.\\n 192.  Butler D A. Mobilisation of the Nervous System . \\nMelbourne: Churchill Livingstone; 1991.'),\n",
       " Document(id='chunk-6886', metadata={'page': 895.0, 'source': 'Data/orthopedic-physical-assessment-7e-7nbsped-0323522998-9780323522991_compress.pdf'}, page_content='back pain? A screening questionnaire for predicting \\noutcome in acute and subacute low back pain. Clin J \\nPain. 1998;14(3):209–215.\\n 77.  Vlaeyen JW, Kole- Snijders AM, Boeren RG, et\\xa0al. Fear \\nof movement/(re)injury in chronic low back pain \\nand its relation to behavioral performance. Pain. \\n1995;62:363–372.\\n 78.  Asmundson GJ, Norton PJ, Norton GR. Beyond pain: \\nthe role of fear and avoidance of chronicity. Clin \\nPsych Rev. 1999;19:97–119.'),\n",
       " Document(id='chunk-11292', metadata={'page': 1461.0, 'source': 'Data/orthopedic-physical-assessment-7e-7nbsped-0323522998-9780323522991_compress.pdf'}, page_content='is very difficult to treat and usually does not change in \\ncharacter after that time. However, some people report \\nthat the intensity of pain changes with time. Prolonged \\nhealing or other complications, such as fractures, may \\ncause phantom pain to persist for longer periods.\\nStump pain is pain arising from the residual part \\nof the body as opposed to phantom pain, which is \\nPhantom Pain Sensations51\\n\\t•\\t \\tKnifelikea,b\\n\\t•\\t \\tStickinga\\n\\t•\\t \\tShooting\\n\\t•\\t \\tPrickling\\n\\t•\\t \\tBurningb\\n\\t•\\t \\tSqueezingb'),\n",
       " Document(id='chunk-126', metadata={'page': 14.0, 'source': 'Data/orthopedic-physical-assessment-7e-7nbsped-0323522998-9780323522991_compress.pdf'}, page_content='be indistinguishable from muscle pain in the resting \\nstate (e.g., when the examiner is taking the history); \\n            Pain Rating Scale\\nInstructions:\\n  Below is a thermometer with various\\ngrades of pain on it from \"No pain at all\"\\nto \"The pain is almost unbearable.\" Put\\nan X by the words that describe your\\npain best. Mark how bad your pain is \\nat this moment in time.\\nThe pain is\\nalmost unbearable\\nVery bad pain\\nQuite bad pain\\nModerate pain\\nLittle pain\\nNo pain at all'),\n",
       " Document(id='chunk-92', metadata={'page': 10.0, 'source': 'Data/orthopedic-physical-assessment-7e-7nbsped-0323522998-9780323522991_compress.pdf'}, page_content='part moves, usually indicating a more acute condition.\\n 10.  Has the condition occurred before?  If so, what was \\nthe onset like the first time? Where was the site of \\nthe original condition, and has there been any ra -\\ndiation (spread) of the symptoms? If the patient \\nTABLE 1.2\\nDifferentiation of Systemic and Musculoskeletal Pain\\nSystemic Musculoskeletal\\n\\t •\\t\\tDisturbs\\tsleep\\n\\t •\\t\\tDeep\\taching\\tor\\t\\nthrobbing\\n\\t •\\t\\tReduced\\tby\\tpressure\\n\\t •\\t\\tConstant\\tor\\twaves\\tof\\t\\npain and spasm'),\n",
       " Document(id='chunk-3096', metadata={'page': 366.0, 'source': 'Data/orthopedic-physical-assessment-7e-7nbsped-0323522998-9780323522991_compress.pdf'}, page_content='der or pathology in the periarticular structures, or it may \\noriginate from the cervical spine, chest, or visceral structures. \\nTo compound the issue, there is no one pain pattern that is \\ndistinct for one particular tissue in the shoulder. Most pain \\ntissues in the shoulder show a similar pain pattern. 1 For \\nexample, tendon injuries, rotator cuff syndrome, superior \\nlabrum anteroposterior (SLAP) lesions, osteoarthritis, and \\nshoulder instability show similar symptoms.1 Pathology is'),\n",
       " Document(id='chunk-6321', metadata={'page': 805.0, 'source': 'Data/orthopedic-physical-assessment-7e-7nbsped-0323522998-9780323522991_compress.pdf'}, page_content='TABLE 9.7\\nDifferential Diagnosis of Mechanical Low Back Pain\\nMuscle Strain\\nHerniated Nucleus \\nPulposus Osteoarthritis Spinal Stenosis Spondylolisthesis Scoliosis\\nAge (years) 20–40 30–50 >50 >60 20 30\\nPain pattern\\nLocation Back \\n(unilateral)\\nBack, leg \\n(unilateral)\\nBack \\n(unilateral)\\nLeg (bilateral) Back Back\\nOnset Acute Acute (prior \\nepisodes)\\nInsidious Insidious Insidious Insidious\\nStanding ↑ ↓ ↑ ↑ ↑ ↑\\nSitting ↓ ↑ ↓ ↓ ↓ ↓\\nBending ↑ ↑ ↓ ↓ ↑ ↑\\nStraight leg raise – + – +(stress) – –'),\n",
       " Document(id='chunk-6285', metadata={'page': 801.0, 'source': 'Data/orthopedic-physical-assessment-7e-7nbsped-0323522998-9780323522991_compress.pdf'}, page_content='same (it may be restricted from the beginning), \\nas does the pain with repeated movements. Pain \\non standing that improves with walking and pain \\non forward flexion with no substantial muscle \\ntenderness suggests disc involvement. 44 The sac -\\nroiliac joints will show pain when pain-  provoking \\n(stress) tests are used. A minor disc injury (pro -\\ntrusion) may show the same symptoms, but the \\npain is more likely to be bilateral if it is a central'),\n",
       " Document(id='chunk-3531', metadata={'page': 424.0, 'source': 'Data/orthopedic-physical-assessment-7e-7nbsped-0323522998-9780323522991_compress.pdf'}, page_content='Pain                 Pain Possible\\n______\\n(10 -#  circled)\\nPain with normal activities \\n(eating, dressing, bathing):\\n0   1   2   3   4   5   6    7   8   9   10\\nNo                             Worst\\nPain            Pain Possible\\n_______\\n(10 -#  circled)\\n(score “0” if not \\napplicable)\\nPain with strenuous activities \\n(reaching, lifting, pushing, pulling, \\nthrowing):\\n0   1   2   3   4   5   6    7   8   9   10\\nNo               Worst\\nPain                 Pain Possible\\n_______\\n(10 -#  circled)'),\n",
       " Document(id='chunk-105', metadata={'page': 11.0, 'source': 'Data/orthopedic-physical-assessment-7e-7nbsped-0323522998-9780323522991_compress.pdf'}, page_content='been shown to have reliability, can be used for the \\nsame purpose. 40\\n 13.  Is the pain constant, periodic, episodic (occurring with \\ncertain activities), or occasional?  Does the condition \\nbother the patient at that exact moment? If the pa -\\ntient is not bothered at that exact moment, the pain \\nis not constant. Constant pain suggests chemical ir-\\nritation, tumors, or possibly visceral lesions. 24 It is \\nalways there, although its intensity may vary. If pe-'),\n",
       " Document(id='chunk-6332', metadata={'page': 807.0, 'source': 'Data/orthopedic-physical-assessment-7e-7nbsped-0323522998-9780323522991_compress.pdf'}, page_content='Here are some of the things other patients have told us about their pain. For each statement please circle the number from 0 to 6 to\\nindicate how much physical activity such as bending, lifting, walking, or driving affects or would affect your pain.\\nThe following statements are about how your normal work affects or would affect your pain.\\n1.  My pain was caused by physical activity.0 12345 6\\n6\\n6\\n6\\n6\\n5\\n5\\n5\\n5\\n4\\n4\\n4\\n4\\n3\\n3\\n3\\n3\\n2\\n2\\n2\\n2\\n1\\n1\\n1\\n1\\n0\\n0\\n0\\n0\\n2.  Physical activity makes my pain worse.'),\n",
       " Document(id='chunk-3205', metadata={'page': 379.0, 'source': 'Data/orthopedic-physical-assessment-7e-7nbsped-0323522998-9780323522991_compress.pdf'}, page_content='painful on shoulder protraction and retraction.76\\n 5.  What is the extent and behavior of the patient’s pain?  \\nFor example, deep, boring, toothache- like pain in the \\nneck, shoulder region, or both may indicate thorac-\\nic outlet syndrome  (Fig. 5.15)77 or acute brachial \\nplexus neuropathy. Strains of the rotator cuff usually \\ncause dull, toothache- like pain that is worse at night, \\nwhereas acute calcific tendinitis usually causes a hot, \\nburning type of pain. Sprain of the first or second'),\n",
       " Document(id='chunk-2973', metadata={'page': 349.0, 'source': 'Data/orthopedic-physical-assessment-7e-7nbsped-0323522998-9780323522991_compress.pdf'}, page_content=\"49. I have pain in my jaw muscles (C on diagram).................................................. [ 0 ] [ 1 ] [ 2 ] [ 3] [ 4 ]\\n50. I have pain in the back of my neck (G on diagram)............................................ [ 0 ] [ 1 ] [ 2 ] [ 3] [ 4 ]\\n51. Over the years, I've been under a lot of stress................................................... [ 0 ] [ 1 ] [ 2 ] [ 3] [ 4 ]\"),\n",
       " Document(id='chunk-11486', metadata={'page': 1483.0, 'source': 'Data/orthopedic-physical-assessment-7e-7nbsped-0323522998-9780323522991_compress.pdf'}, page_content='3.  Have you ever been told you have cancer?\\n 4.  Have you ever had anything similar to what you have \\nnow? How often?\\n 5.  Where exactly is your pain? What is the quality, fre -\\nquency, and pattern of the pain? 70 What have you \\ntried to do to alleviate the pain? On a scale of 1 (no \\npain) to 10 (pain is bad as it could possibly get), how \\nwould you rate your pain level?\\n 6.  Do you have any other symptoms?\\n 7.  Have you ever had any infections? How were they treated?'),\n",
       " Document(id='chunk-106', metadata={'page': 11.0, 'source': 'Data/orthopedic-physical-assessment-7e-7nbsped-0323522998-9780323522991_compress.pdf'}, page_content='riodic or occasional pain is present, the examiner \\nshould try to determine the activity, position, or pos-\\nture that irritates or brings on the symptoms, because \\nOn the line provided, please mark where your “pain status” is today.\\nNo pain Most severe pain\\n0 10\\nMild Moderate Severe\\n15 4328 769\\nOn the line provided, please mark where your “pain status” was when it was at\\nits most severe on any occasion.\\nNo pain Most severe pain\\n0 10'),\n",
       " Document(id='chunk-6261', metadata={'page': 799.0, 'source': 'Data/orthopedic-physical-assessment-7e-7nbsped-0323522998-9780323522991_compress.pdf'}, page_content='nerve roots exit, L4–L5 disc pathology usually affects the L5 root rather \\nthan the L4 root. (Redrawn from Borenstein DG, Wiesel SW, Boden \\nSD: Low back pain: medical diagnosis and comprehensive management , \\nPhiladelphia, 1995, WB Saunders, p 5.)\\nPatient History\\nProblems of the lumbar spine are difficult to diagnose; \\nin fact, diagnosing pain due to a disc is primarily a \\ndiagnosis of exclusion. 27 That being said, the examiner \\nmust first clear any red flags to serious spinal pathology'),\n",
       " Document(id='chunk-6295', metadata={'page': 803.0, 'source': 'Data/orthopedic-physical-assessment-7e-7nbsped-0323522998-9780323522991_compress.pdf'}, page_content='•\\t \\tPain\\tusually\\tbecomes\\tworse\\tover\\tthe\\tcourse\\tof\\tthe\\tday\\n•\\t \\tPain\\tis\\trelieved\\tby\\ta\\tchange\\tof\\tposition\\n•\\t \\tPain\\tis\\trelieved\\tby\\tlying\\tdown,\\tespecially\\tin\\tthe\\tfetal\\tposition\\n 7.  Is there any radiation of pain? Is the pain centralizing \\nor peripheralizing (Fig. 9.14)?47,48 Centralization im-\\nplies that the pain is moving toward or is centered in \\nthe lumbar spine.49–52 Peripheralization implies the \\npain is being referred or is moving into the limb. If'),\n",
       " Document(id='chunk-2976', metadata={'page': 349.0, 'source': 'Data/orthopedic-physical-assessment-7e-7nbsped-0323522998-9780323522991_compress.pdf'}, page_content='58. I have pain in the side(s) of my neck (H on diagram)......................................... [ 0 ] [ 1 ] [ 2 ] [ 3] [ 4 ]\\n59. I have a steady pain across my forehead.......................................................... [ 0 ] [ 1 ] [ 2 ] [ 3] [ 4 ]\\n60. I have many changing pains............................................................................... [ 0 ] [ 1 ] [ 2 ] [ 3] [ 4 ]'),\n",
       " Document(id='chunk-6775', metadata={'page': 876.0, 'source': 'Data/orthopedic-physical-assessment-7e-7nbsped-0323522998-9780323522991_compress.pdf'}, page_content='have been reported as one of the major muscle groups \\naffected in those with low back pain. They have been \\nshown to be round or oval, and symmetrical between \\nsides, while increasing in size from cranial to caudal in \\nhealthy subjects.62,313–316 Multifidus atrophy is a common \\nfinding (around 80%) in patients with chronic low back \\npain.317 Lower back injury can result in lumbar muscle \\ninhibition and loss of control, which may not recover \\nspontaneously.318')]"
      ]
     },
     "execution_count": 48,
     "metadata": {},
     "output_type": "execute_result"
    }
   ],
   "source": [
    "## testing on a sample query\n",
    "query=\"What is treatment for back pain?\"\n",
    "retriver.invoke(input=query)"
   ]
  },
  {
   "cell_type": "code",
   "execution_count": 29,
   "id": "8c54dc55",
   "metadata": {},
   "outputs": [
    {
     "name": "stderr",
     "output_type": "stream",
     "text": [
      "huggingface/tokenizers: The current process just got forked, after parallelism has already been used. Disabling parallelism to avoid deadlocks...\n",
      "To disable this warning, you can either:\n",
      "\t- Avoid using `tokenizers` before the fork if possible\n",
      "\t- Explicitly set the environment variable TOKENIZERS_PARALLELISM=(true | false)\n"
     ]
    }
   ],
   "source": [
    "### getting the llm model installing google gen ai\n",
    "! pip install -q -U google-genai\n",
    "\n"
   ]
  },
  {
   "cell_type": "code",
   "execution_count": 49,
   "id": "7386a8e1",
   "metadata": {},
   "outputs": [
    {
     "name": "stdout",
     "output_type": "stream",
     "text": [
      "Okay, let's break down how AI works, focusing on the core concepts and avoiding overly technical jargon.  Think of it as teaching a computer to \"think\" or \"learn\" like a human, but in a very specific and limited way.\n",
      "\n",
      "**The Basic Idea: Learning from Data**\n",
      "\n",
      "At its heart, AI is about creating systems that can learn from data, identify patterns, and make decisions or predictions based on those patterns.  Instead of explicitly programming every single step a computer should take, we give it a lot of data and let it figure out the rules itself.\n",
      "\n",
      "**Key Components and Concepts:**\n",
      "\n",
      "1.  **Data:** This is the fuel for AI.  It can be anything:\n",
      "    *   **Images:**  For teaching a computer to recognize objects in pictures.\n",
      "    *   **Text:**  For understanding language, translating, or writing.\n",
      "    *   **Numbers:**  For predicting stock prices, analyzing sales trends, or diagnosing medical conditions.\n",
      "    *   **Audio:** For speech recognition or music generation.\n",
      "    *   **Video:** For analyzing human behavior or self-driving cars.\n",
      "\n",
      "    The more data, and the better the quality of the data, the better the AI system will generally perform.\n",
      "\n",
      "2.  **Algorithms:** These are the sets of instructions that tell the computer *how* to learn from the data.  There are many different types of algorithms, each suited for different tasks.  Here are a few common ones:\n",
      "\n",
      "    *   **Machine Learning (ML):** This is the most common type of AI.  It involves training algorithms to learn from data without being explicitly programmed.  Think of it like teaching a dog a trick: you show it what you want it to do, reward it when it gets it right, and correct it when it gets it wrong.  The algorithm adjusts itself over time to get better at the task.\n",
      "\n",
      "        *   **Supervised Learning:**  The algorithm is trained on labeled data.  This means each piece of data has a \"correct answer\" associated with it.  For example, you might show the algorithm thousands of pictures of cats and dogs, and tell it which ones are cats and which ones are dogs.  The algorithm learns to associate features (like pointy ears or a long tail) with the correct label.  Used for:\n",
      "            *   **Classification:**  Categorizing data into different groups (e.\n"
     ]
    }
   ],
   "source": [
    "from google import genai\n",
    "from google.genai import types\n",
    "\n",
    "client = genai.Client(api_key=GEMINI_API_KEY)\n",
    "\n",
    "response = client.models.generate_content(\n",
    "    model=\"gemini-2.0-flash\",\n",
    "    contents=[\"Explain how AI works\"],\n",
    "    config=types.GenerateContentConfig(\n",
    "        max_output_tokens=500,\n",
    "        temperature=0.1\n",
    "    )\n",
    ")\n",
    "print(response.text)"
   ]
  },
  {
   "cell_type": "code",
   "execution_count": 52,
   "id": "c811b0f4",
   "metadata": {},
   "outputs": [
    {
     "name": "stderr",
     "output_type": "stream",
     "text": [
      "huggingface/tokenizers: The current process just got forked, after parallelism has already been used. Disabling parallelism to avoid deadlocks...\n",
      "To disable this warning, you can either:\n",
      "\t- Avoid using `tokenizers` before the fork if possible\n",
      "\t- Explicitly set the environment variable TOKENIZERS_PARALLELISM=(true | false)\n"
     ]
    },
    {
     "name": "stdout",
     "output_type": "stream",
     "text": [
      "Requirement already satisfied: langchain-google-genai in /Users/pratikshankar/miniforge3/envs/openaidemo/lib/python3.10/site-packages (2.1.3)\n",
      "Requirement already satisfied: filetype<2.0.0,>=1.2.0 in /Users/pratikshankar/miniforge3/envs/openaidemo/lib/python3.10/site-packages (from langchain-google-genai) (1.2.0)\n",
      "Requirement already satisfied: google-ai-generativelanguage<0.7.0,>=0.6.16 in /Users/pratikshankar/miniforge3/envs/openaidemo/lib/python3.10/site-packages (from langchain-google-genai) (0.6.17)\n",
      "Requirement already satisfied: langchain-core<0.4.0,>=0.3.52 in /Users/pratikshankar/miniforge3/envs/openaidemo/lib/python3.10/site-packages (from langchain-google-genai) (0.3.54)\n",
      "Requirement already satisfied: pydantic<3,>=2 in /Users/pratikshankar/miniforge3/envs/openaidemo/lib/python3.10/site-packages (from langchain-google-genai) (2.11.3)\n",
      "Requirement already satisfied: google-api-core!=2.0.*,!=2.1.*,!=2.10.*,!=2.2.*,!=2.3.*,!=2.4.*,!=2.5.*,!=2.6.*,!=2.7.*,!=2.8.*,!=2.9.*,<3.0.0,>=1.34.1 in /Users/pratikshankar/miniforge3/envs/openaidemo/lib/python3.10/site-packages (from google-api-core[grpc]!=2.0.*,!=2.1.*,!=2.10.*,!=2.2.*,!=2.3.*,!=2.4.*,!=2.5.*,!=2.6.*,!=2.7.*,!=2.8.*,!=2.9.*,<3.0.0,>=1.34.1->google-ai-generativelanguage<0.7.0,>=0.6.16->langchain-google-genai) (2.24.2)\n",
      "Requirement already satisfied: google-auth!=2.24.0,!=2.25.0,<3.0.0,>=2.14.1 in /Users/pratikshankar/miniforge3/envs/openaidemo/lib/python3.10/site-packages (from google-ai-generativelanguage<0.7.0,>=0.6.16->langchain-google-genai) (2.39.0)\n",
      "Requirement already satisfied: proto-plus<2.0.0,>=1.22.3 in /Users/pratikshankar/miniforge3/envs/openaidemo/lib/python3.10/site-packages (from google-ai-generativelanguage<0.7.0,>=0.6.16->langchain-google-genai) (1.26.1)\n",
      "Requirement already satisfied: protobuf!=4.21.0,!=4.21.1,!=4.21.2,!=4.21.3,!=4.21.4,!=4.21.5,<7.0.0,>=3.20.2 in /Users/pratikshankar/miniforge3/envs/openaidemo/lib/python3.10/site-packages (from google-ai-generativelanguage<0.7.0,>=0.6.16->langchain-google-genai) (6.31.0rc1)\n",
      "Requirement already satisfied: langsmith<0.4,>=0.1.125 in /Users/pratikshankar/miniforge3/envs/openaidemo/lib/python3.10/site-packages (from langchain-core<0.4.0,>=0.3.52->langchain-google-genai) (0.3.32)\n",
      "Requirement already satisfied: tenacity!=8.4.0,<10.0.0,>=8.1.0 in /Users/pratikshankar/miniforge3/envs/openaidemo/lib/python3.10/site-packages (from langchain-core<0.4.0,>=0.3.52->langchain-google-genai) (9.1.2)\n",
      "Requirement already satisfied: jsonpatch<2.0,>=1.33 in /Users/pratikshankar/miniforge3/envs/openaidemo/lib/python3.10/site-packages (from langchain-core<0.4.0,>=0.3.52->langchain-google-genai) (1.33)\n",
      "Requirement already satisfied: PyYAML>=5.3 in /Users/pratikshankar/miniforge3/envs/openaidemo/lib/python3.10/site-packages (from langchain-core<0.4.0,>=0.3.52->langchain-google-genai) (6.0.2)\n",
      "Requirement already satisfied: packaging<25,>=23.2 in /Users/pratikshankar/miniforge3/envs/openaidemo/lib/python3.10/site-packages (from langchain-core<0.4.0,>=0.3.52->langchain-google-genai) (24.2)\n",
      "Requirement already satisfied: typing-extensions>=4.7 in /Users/pratikshankar/miniforge3/envs/openaidemo/lib/python3.10/site-packages (from langchain-core<0.4.0,>=0.3.52->langchain-google-genai) (4.13.2)\n",
      "Requirement already satisfied: annotated-types>=0.6.0 in /Users/pratikshankar/miniforge3/envs/openaidemo/lib/python3.10/site-packages (from pydantic<3,>=2->langchain-google-genai) (0.7.0)\n",
      "Requirement already satisfied: pydantic-core==2.33.1 in /Users/pratikshankar/miniforge3/envs/openaidemo/lib/python3.10/site-packages (from pydantic<3,>=2->langchain-google-genai) (2.33.1)\n",
      "Requirement already satisfied: typing-inspection>=0.4.0 in /Users/pratikshankar/miniforge3/envs/openaidemo/lib/python3.10/site-packages (from pydantic<3,>=2->langchain-google-genai) (0.4.0)\n",
      "Requirement already satisfied: googleapis-common-protos<2.0.0,>=1.56.2 in /Users/pratikshankar/miniforge3/envs/openaidemo/lib/python3.10/site-packages (from google-api-core!=2.0.*,!=2.1.*,!=2.10.*,!=2.2.*,!=2.3.*,!=2.4.*,!=2.5.*,!=2.6.*,!=2.7.*,!=2.8.*,!=2.9.*,<3.0.0,>=1.34.1->google-api-core[grpc]!=2.0.*,!=2.1.*,!=2.10.*,!=2.2.*,!=2.3.*,!=2.4.*,!=2.5.*,!=2.6.*,!=2.7.*,!=2.8.*,!=2.9.*,<3.0.0,>=1.34.1->google-ai-generativelanguage<0.7.0,>=0.6.16->langchain-google-genai) (1.70.0)\n",
      "Requirement already satisfied: requests<3.0.0,>=2.18.0 in /Users/pratikshankar/miniforge3/envs/openaidemo/lib/python3.10/site-packages (from google-api-core!=2.0.*,!=2.1.*,!=2.10.*,!=2.2.*,!=2.3.*,!=2.4.*,!=2.5.*,!=2.6.*,!=2.7.*,!=2.8.*,!=2.9.*,<3.0.0,>=1.34.1->google-api-core[grpc]!=2.0.*,!=2.1.*,!=2.10.*,!=2.2.*,!=2.3.*,!=2.4.*,!=2.5.*,!=2.6.*,!=2.7.*,!=2.8.*,!=2.9.*,<3.0.0,>=1.34.1->google-ai-generativelanguage<0.7.0,>=0.6.16->langchain-google-genai) (2.32.3)\n",
      "Requirement already satisfied: grpcio<2.0dev,>=1.33.2 in /Users/pratikshankar/miniforge3/envs/openaidemo/lib/python3.10/site-packages (from google-api-core[grpc]!=2.0.*,!=2.1.*,!=2.10.*,!=2.2.*,!=2.3.*,!=2.4.*,!=2.5.*,!=2.6.*,!=2.7.*,!=2.8.*,!=2.9.*,<3.0.0,>=1.34.1->google-ai-generativelanguage<0.7.0,>=0.6.16->langchain-google-genai) (1.72.0rc1)\n",
      "Requirement already satisfied: grpcio-status<2.0.dev0,>=1.33.2 in /Users/pratikshankar/miniforge3/envs/openaidemo/lib/python3.10/site-packages (from google-api-core[grpc]!=2.0.*,!=2.1.*,!=2.10.*,!=2.2.*,!=2.3.*,!=2.4.*,!=2.5.*,!=2.6.*,!=2.7.*,!=2.8.*,!=2.9.*,<3.0.0,>=1.34.1->google-ai-generativelanguage<0.7.0,>=0.6.16->langchain-google-genai) (1.72.0rc1)\n",
      "Requirement already satisfied: cachetools<6.0,>=2.0.0 in /Users/pratikshankar/miniforge3/envs/openaidemo/lib/python3.10/site-packages (from google-auth!=2.24.0,!=2.25.0,<3.0.0,>=2.14.1->google-ai-generativelanguage<0.7.0,>=0.6.16->langchain-google-genai) (5.5.2)\n",
      "Requirement already satisfied: pyasn1-modules>=0.2.1 in /Users/pratikshankar/miniforge3/envs/openaidemo/lib/python3.10/site-packages (from google-auth!=2.24.0,!=2.25.0,<3.0.0,>=2.14.1->google-ai-generativelanguage<0.7.0,>=0.6.16->langchain-google-genai) (0.4.2)\n",
      "Requirement already satisfied: rsa<5,>=3.1.4 in /Users/pratikshankar/miniforge3/envs/openaidemo/lib/python3.10/site-packages (from google-auth!=2.24.0,!=2.25.0,<3.0.0,>=2.14.1->google-ai-generativelanguage<0.7.0,>=0.6.16->langchain-google-genai) (4.9.1)\n",
      "Requirement already satisfied: jsonpointer>=1.9 in /Users/pratikshankar/miniforge3/envs/openaidemo/lib/python3.10/site-packages (from jsonpatch<2.0,>=1.33->langchain-core<0.4.0,>=0.3.52->langchain-google-genai) (3.0.0)\n",
      "Requirement already satisfied: httpx<1,>=0.23.0 in /Users/pratikshankar/miniforge3/envs/openaidemo/lib/python3.10/site-packages (from langsmith<0.4,>=0.1.125->langchain-core<0.4.0,>=0.3.52->langchain-google-genai) (0.28.1)\n",
      "Requirement already satisfied: orjson<4.0.0,>=3.9.14 in /Users/pratikshankar/miniforge3/envs/openaidemo/lib/python3.10/site-packages (from langsmith<0.4,>=0.1.125->langchain-core<0.4.0,>=0.3.52->langchain-google-genai) (3.10.16)\n",
      "Requirement already satisfied: requests-toolbelt<2.0.0,>=1.0.0 in /Users/pratikshankar/miniforge3/envs/openaidemo/lib/python3.10/site-packages (from langsmith<0.4,>=0.1.125->langchain-core<0.4.0,>=0.3.52->langchain-google-genai) (1.0.0)\n",
      "Requirement already satisfied: zstandard<0.24.0,>=0.23.0 in /Users/pratikshankar/miniforge3/envs/openaidemo/lib/python3.10/site-packages (from langsmith<0.4,>=0.1.125->langchain-core<0.4.0,>=0.3.52->langchain-google-genai) (0.23.0)\n",
      "Requirement already satisfied: anyio in /Users/pratikshankar/miniforge3/envs/openaidemo/lib/python3.10/site-packages (from httpx<1,>=0.23.0->langsmith<0.4,>=0.1.125->langchain-core<0.4.0,>=0.3.52->langchain-google-genai) (4.9.0)\n",
      "Requirement already satisfied: certifi in /Users/pratikshankar/miniforge3/envs/openaidemo/lib/python3.10/site-packages (from httpx<1,>=0.23.0->langsmith<0.4,>=0.1.125->langchain-core<0.4.0,>=0.3.52->langchain-google-genai) (2025.1.31)\n",
      "Requirement already satisfied: httpcore==1.* in /Users/pratikshankar/miniforge3/envs/openaidemo/lib/python3.10/site-packages (from httpx<1,>=0.23.0->langsmith<0.4,>=0.1.125->langchain-core<0.4.0,>=0.3.52->langchain-google-genai) (1.0.8)\n",
      "Requirement already satisfied: idna in /Users/pratikshankar/miniforge3/envs/openaidemo/lib/python3.10/site-packages (from httpx<1,>=0.23.0->langsmith<0.4,>=0.1.125->langchain-core<0.4.0,>=0.3.52->langchain-google-genai) (3.10)\n",
      "Requirement already satisfied: h11<0.15,>=0.13 in /Users/pratikshankar/miniforge3/envs/openaidemo/lib/python3.10/site-packages (from httpcore==1.*->httpx<1,>=0.23.0->langsmith<0.4,>=0.1.125->langchain-core<0.4.0,>=0.3.52->langchain-google-genai) (0.14.0)\n",
      "Requirement already satisfied: pyasn1<0.7.0,>=0.6.1 in /Users/pratikshankar/miniforge3/envs/openaidemo/lib/python3.10/site-packages (from pyasn1-modules>=0.2.1->google-auth!=2.24.0,!=2.25.0,<3.0.0,>=2.14.1->google-ai-generativelanguage<0.7.0,>=0.6.16->langchain-google-genai) (0.6.1)\n",
      "Requirement already satisfied: charset-normalizer<4,>=2 in /Users/pratikshankar/miniforge3/envs/openaidemo/lib/python3.10/site-packages (from requests<3.0.0,>=2.18.0->google-api-core!=2.0.*,!=2.1.*,!=2.10.*,!=2.2.*,!=2.3.*,!=2.4.*,!=2.5.*,!=2.6.*,!=2.7.*,!=2.8.*,!=2.9.*,<3.0.0,>=1.34.1->google-api-core[grpc]!=2.0.*,!=2.1.*,!=2.10.*,!=2.2.*,!=2.3.*,!=2.4.*,!=2.5.*,!=2.6.*,!=2.7.*,!=2.8.*,!=2.9.*,<3.0.0,>=1.34.1->google-ai-generativelanguage<0.7.0,>=0.6.16->langchain-google-genai) (3.4.1)\n",
      "Requirement already satisfied: urllib3<3,>=1.21.1 in /Users/pratikshankar/miniforge3/envs/openaidemo/lib/python3.10/site-packages (from requests<3.0.0,>=2.18.0->google-api-core!=2.0.*,!=2.1.*,!=2.10.*,!=2.2.*,!=2.3.*,!=2.4.*,!=2.5.*,!=2.6.*,!=2.7.*,!=2.8.*,!=2.9.*,<3.0.0,>=1.34.1->google-api-core[grpc]!=2.0.*,!=2.1.*,!=2.10.*,!=2.2.*,!=2.3.*,!=2.4.*,!=2.5.*,!=2.6.*,!=2.7.*,!=2.8.*,!=2.9.*,<3.0.0,>=1.34.1->google-ai-generativelanguage<0.7.0,>=0.6.16->langchain-google-genai) (2.4.0)\n",
      "Requirement already satisfied: exceptiongroup>=1.0.2 in /Users/pratikshankar/miniforge3/envs/openaidemo/lib/python3.10/site-packages (from anyio->httpx<1,>=0.23.0->langsmith<0.4,>=0.1.125->langchain-core<0.4.0,>=0.3.52->langchain-google-genai) (1.2.2)\n",
      "Requirement already satisfied: sniffio>=1.1 in /Users/pratikshankar/miniforge3/envs/openaidemo/lib/python3.10/site-packages (from anyio->httpx<1,>=0.23.0->langsmith<0.4,>=0.1.125->langchain-core<0.4.0,>=0.3.52->langchain-google-genai) (1.3.1)\n"
     ]
    }
   ],
   "source": [
    "### now trying gemenai with langchain\n",
    "! pip install  langchain-google-genai"
   ]
  },
  {
   "cell_type": "code",
   "execution_count": 41,
   "id": "db909d9f",
   "metadata": {},
   "outputs": [],
   "source": [
    "from langchain_google_genai import ChatGoogleGenerativeAI\n",
    "\n",
    "llm = ChatGoogleGenerativeAI(\n",
    "    model=\"gemini-2.0-flash-001\",\n",
    "    api_key=GEMINI_API_KEY,\n",
    "    temperature=0.8,\n",
    "    max_tokens=1024,\n",
    "    timeout=None,\n",
    "    max_retries=2\n",
    ")"
   ]
  },
  {
   "cell_type": "code",
   "execution_count": 57,
   "id": "1a53ba00",
   "metadata": {},
   "outputs": [
    {
     "data": {
      "text/plain": [
       "AIMessage(content=\"J'adore la programmation.\", additional_kwargs={}, response_metadata={'prompt_feedback': {'block_reason': 0, 'safety_ratings': []}, 'finish_reason': 'STOP', 'model_name': 'gemini-2.0-flash-001', 'safety_ratings': []}, id='run-6d15926f-d1a7-47ee-abe3-2cbe5eba10c1-0', usage_metadata={'input_tokens': 20, 'output_tokens': 7, 'total_tokens': 27, 'input_token_details': {'cache_read': 0}})"
      ]
     },
     "execution_count": 57,
     "metadata": {},
     "output_type": "execute_result"
    }
   ],
   "source": [
    "messages = [\n",
    "    (\n",
    "        \"system\",\n",
    "        \"You are a helpful assistant that translates English to French. Translate the user sentence.\",\n",
    "    ),\n",
    "    (\"human\", \"I love programming.\"),\n",
    "]\n",
    "ai_msg = llm.invoke(messages)\n",
    "ai_msg"
   ]
  },
  {
   "cell_type": "code",
   "execution_count": 19,
   "id": "6e081eb1",
   "metadata": {},
   "outputs": [
    {
     "name": "stdout",
     "output_type": "stream",
     "text": [
      "Answer: Based on the provided text snippets, the main idea of the document appears to be related to a book on musculoskeletal assessment. Here's a breakdown:\n",
      "\n",
      "*   **Acknowledgments:** The book is a compilation of ideas from colleagues, friends, clinicians, and experts. It also mentions the success of the book since its first publication in 1987.\n",
      "*   **Updates and Features:** The text mentions updates and new features, including summaries of outcomes on selected topics, which were added in the fourth edition and updated for the current edition. There is also mention of the inclusion of research related to evidence-based practice.\n",
      "*   **Content:** The content of the text has been expanded and reorganized.\n",
      "\n",
      "Sources:\n"
     ]
    }
   ],
   "source": [
    "from langchain.chains import RetrievalQA\n",
    "\n",
    "qa_chain = RetrievalQA.from_chain_type(\n",
    "    llm=llm,\n",
    "    retriever=retriver,\n",
    "    return_source_documents=True\n",
    ")\n",
    "\n",
    "query = \"What is the main idea of the document?\"\n",
    "result = qa_chain.invoke({\"query\": query})\n",
    "\n",
    "print(\"Answer:\", result[\"result\"])\n",
    "print(\"\\nSources:\")"
   ]
  },
  {
   "cell_type": "code",
   "execution_count": 51,
   "id": "79769d8a",
   "metadata": {},
   "outputs": [
    {
     "name": "stdout",
     "output_type": "stream",
     "text": [
      "Okay, here's a breakdown of modalities commonly used for back pain, categorized for clarity:\n",
      "\n",
      "**1. Thermal Modalities:**\n",
      "\n",
      "*   **Heat Therapy (Superficial):**\n",
      "    *   **Examples:** Hot packs, heating pads, warm baths, hydrotherapy.\n",
      "    *   **Mechanism:** Promotes vasodilation, increasing blood flow to the area, relaxing muscles, and reducing pain.\n",
      "    *   **Evidence:** Can provide short-term pain relief and muscle relaxation.\n",
      "*   **Heat Therapy (Deep):**\n",
      "     *   **Examples:** Ultrasound, Diathermy\n",
      "     *   **Mechanism:** Heats deeper tissues and increases blood flow, relaxes muscles, and reduces pain.\n",
      "     *   **Evidence:** Can provide short-term pain relief and muscle relaxation.\n",
      "*   **Cold Therapy (Cryotherapy):**\n",
      "    *   **Examples:** Ice packs, cold compresses, ice massage.\n",
      "    *   **Mechanism:** Causes vasoconstriction, reducing inflammation, muscle spasm, and pain.\n",
      "    *   **Evidence:** Effective for acute pain and inflammation.\n",
      "\n",
      "**2. Electrotherapeutic Modalities:**\n",
      "\n",
      "*   **Transcutaneous Electrical Nerve Stimulation (TENS):**\n",
      "    *   **Mechanism:** Delivers mild electrical impulses to the skin, stimulating sensory nerves to block pain signals. May also release endorphins.\n",
      "    *   **Evidence:** Can provide short-term pain relief.\n",
      "*   **Interferential Current (IFC):**\n",
      "    *   **Mechanism:** Uses two medium-frequency alternating currents that intersect to produce a lower-frequency current within the tissues.  This is thought to penetrate deeper than TENS.\n",
      "    *   **Evidence:** Some evidence suggests it can reduce pain and muscle spasm.\n",
      "*   **Neuromuscular Electrical Stimulation (NMES):**\n",
      "    *   **Mechanism:** Stimulates muscle contraction using electrical impulses. Used to strengthen weak muscles and reduce muscle spasm.\n",
      "    *   **Evidence:** Helpful for muscle strengthening and reducing atrophy, but its direct effect on pain is less clear.\n",
      "\n",
      "**3. Mechanical Modalities:**\n",
      "\n",
      "*   **Traction (Manual or Mechanical):**\n",
      "    *   **Mechanism:** Applies a pulling force to the spine, aiming to reduce pressure on discs and nerve roots.\n",
      "    *   **Evidence:** The evidence is mixed; may provide some relief for radicular pain in specific cases, but not generally recommended for all types of back pain.\n",
      "*   **Massage:**\n",
      "    *   **Mechanism:** Manual manipulation of soft tissues to reduce muscle tension, improve circulation, and decrease pain.\n",
      "    *   **Evidence:** Can provide short-term pain relief and improve function.\n",
      "*   **Ultrasound (Non-thermal):**\n",
      "    *   **Mechanism:** Uses sound waves to cause micro-vibrations in tissues, which promotes healing.\n",
      "    *   **Evidence:** Can provide short-term pain relief and improve function.\n",
      "\n",
      "**Important Considerations:**\n",
      "\n",
      "*   **Evidence-Based Practice:** It's crucial to choose modalities based on the best available evidence and individual patient needs.\n",
      "*   **Combined Approach:** Modalities are often most effective when used as part of a comprehensive treatment plan that includes exercise, manual therapy, and education.\n",
      "*   **Patient Education:** Explain the purpose of the modality, expected outcomes, and potential side effects to the patient.\n",
      "*   **Contraindications:** Be aware of contraindications for each modality (e.g., pregnancy, pacemakers, malignancy, acute infections).\n",
      "*   **Re-assessment:** Regularly assess the patient's response to the modality and adjust the treatment plan as needed.\n",
      "*   **Active vs. Passive:** Emphasize active therapies (exercise, movement) over passive modalities as the primary approach to long-term back pain management. Modalities should primarily be used to facilitate active participation in rehabilitation.\n"
     ]
    }
   ],
   "source": [
    "from langchain.chains import create_retrieval_chain\n",
    "from langchain.chains.combine_documents import create_stuff_documents_chain\n",
    "from langchain_core.prompts import ChatPromptTemplate\n",
    "from langchain_community.vectorstores import Chroma\n",
    "# from langchain.embeddings import GoogleGenerativeAIEmbeddings\n",
    "from langchain_community.document_loaders import TextLoader\n",
    "from langchain.text_splitter import CharacterTextSplitter\n",
    "from langchain_google_genai import ChatGoogleGenerativeAI\n",
    "\n",
    "# system_prompt = (\n",
    "#     \"You are an assistant for question-answering tasks. \"\n",
    "#     \"Use the following pieces of retrieved context to answer \"\n",
    "#     \"the question. If you don't know the answer, say that you \"\n",
    "#     \"don't know. Use three sentences maximum and keep the \"\n",
    "#     \"answer concise.\\n\\n{context}\"\n",
    "# )\n",
    "# system_prompt=(\n",
    "#     \"You are an experienced senior physiotherapist. \"\n",
    "#     \"Your task is to assist junior physiotherapists in:\\n\"\n",
    "#     \"- Identifying possible conditions based on patient symptoms\\n\"\n",
    "#     \"- Suggesting essential diagnostic tests\\n\"\n",
    "#     \"- Recommending evidence-based physiotherapy treatment protocols\\n\\n\"\n",
    "#     \"Use ONLY the provided medical context to generate your answers.\\n\"\n",
    "#     \"If the context does not clearly mention a diagnosis or treatment, respond with \"\n",
    "#     \"\\\"Not enough information available in the provided documents.\\\"\\n\\n\"\n",
    "#     \"When answering, strictly follow this structure:\\n\\n\"\n",
    "#     \"1. Possible Condition: [Name the condition]\\n\"\n",
    "#     \"2. Diagnostic Steps: [List tests or examinations needed]\\n\"\n",
    "#     \"3. Treatment Protocol: [Suggest appropriate physiotherapy treatments]\\n\\n\"\n",
    "#     \"Keep your answers concise, clear, and strictly within clinical boundaries{context}.\"\n",
    "# )\n",
    "system_prompt=(\n",
    "    \"You are an experienced senior physiotherapist. \"\n",
    "    \"Your task is to assist junior physiotherapists in:\\n\"\n",
    "    \"- Identifying possible conditions based on patient symptoms\\n\"\n",
    "    \"- Suggesting essential diagnostic tests\\n\"\n",
    "    \"- Recommending evidence-based physiotherapy treatment protocols\\n\\n\"\n",
    "    \"When answering, strictly follow this structure:\\n\\n\"\n",
    "    \"1. Possible Condition: [Name the condition]\\n\"\n",
    "    \"2. Diagnostic Steps: [List tests or examinations needed]\\n\"\n",
    "    \"3. Treatment Protocol: [Suggest appropriate physiotherapy treatments]\\n\\n\"\n",
    "    \"Keep your answers concise, clear, and strictly within clinical boundaries{context}.\"\n",
    ")\n",
    "prompt = ChatPromptTemplate.from_messages([\n",
    "    (\"system\", system_prompt),\n",
    "    (\"human\", \"{input}\")\n",
    "])\n",
    "\n",
    "question_answer_chain = create_stuff_documents_chain(llm, prompt)\n",
    "rag_chain = create_retrieval_chain(retriver, question_answer_chain)\n",
    "\n",
    "# Query\n",
    "query = \"What are the modalities for back pain?\"\n",
    "response = rag_chain.invoke({\"input\": query})\n",
    "\n",
    "print(response[\"answer\"])\n"
   ]
  },
  {
   "cell_type": "code",
   "execution_count": 75,
   "id": "23f720d5",
   "metadata": {},
   "outputs": [
    {
     "name": "stdout",
     "output_type": "stream",
     "text": [
      "📘 Ask me anything related to medical (type 'exit' to quit):\n",
      "\n",
      "🤖 Question: hello\n",
      "\n",
      "🤖 Answer: Hello! How can I help you?\n",
      "\n",
      "🤖 Question: my asshole hurts\n",
      "\n",
      "🤖 Answer: There are several potential causes of pain in the anorectal area, including anal fissures, anorectal abscesses, and anorectal fistulas. Anal fissures are tears in the lining of the anus, often caused by hard bowel movements. Anorectal abscesses are pus-forming infections, while anorectal fistulas are abnormal openings from the anorectal area to another part of the body.\n",
      "👋 Exiting. Have a great day!\n"
     ]
    }
   ],
   "source": [
    "print(\"📘 Ask me anything related to medical (type 'exit' to quit):\")\n",
    "while True:\n",
    "    user_input = input(\"\\n🧠 Your question: \").strip()\n",
    "    if user_input.lower() in (\"exit\", \"quit\"):\n",
    "        print(\"👋 Exiting. Have a great day!\")\n",
    "        break\n",
    "\n",
    "    try:\n",
    "        response = rag_chain.invoke({\"input\": user_input})\n",
    "        print(f\"\\n🤖 Question: {user_input}\")\n",
    "        print(f\"\\n🤖 Answer: {response['answer']}\")\n",
    "    except Exception as e:\n",
    "        print(f\"⚠️ Error: {e}\")"
   ]
  },
  {
   "cell_type": "code",
   "execution_count": null,
   "id": "70b48b6c",
   "metadata": {},
   "outputs": [],
   "source": []
  }
 ],
 "metadata": {
  "kernelspec": {
   "display_name": "openaidemo",
   "language": "python",
   "name": "python3"
  },
  "language_info": {
   "codemirror_mode": {
    "name": "ipython",
    "version": 3
   },
   "file_extension": ".py",
   "mimetype": "text/x-python",
   "name": "python",
   "nbconvert_exporter": "python",
   "pygments_lexer": "ipython3",
   "version": "3.10.16"
  }
 },
 "nbformat": 4,
 "nbformat_minor": 5
}
